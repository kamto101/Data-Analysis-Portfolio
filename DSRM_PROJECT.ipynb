{
  "nbformat": 4,
  "nbformat_minor": 0,
  "metadata": {
    "colab": {
      "provenance": [],
      "authorship_tag": "ABX9TyNKIxxoWNOWWpTYCjhdWHYU",
      "include_colab_link": true
    },
    "kernelspec": {
      "name": "python3",
      "display_name": "Python 3"
    },
    "language_info": {
      "name": "python"
    }
  },
  "cells": [
    {
      "cell_type": "markdown",
      "metadata": {
        "id": "view-in-github",
        "colab_type": "text"
      },
      "source": [
        "<a href=\"https://colab.research.google.com/github/kamto101/Data-Analysis-Portfolio/blob/main/DSRM_PROJECT.ipynb\" target=\"_parent\"><img src=\"https://colab.research.google.com/assets/colab-badge.svg\" alt=\"Open In Colab\"/></a>"
      ]
    },
    {
      "cell_type": "markdown",
      "source": [
        "**The Physical Activity Monitoring Report (PAMAP_2 DATASET)**\n",
        "\n",
        "**Table of Contents**\n",
        "\n",
        "1. Overview\n",
        "\n",
        "\n",
        "2. Data preprocessing\n",
        "\n",
        "\n",
        "3. Exploratory Data Analysis\n",
        "\n",
        "\n",
        "4. Hypothesis Testing\n",
        "\n",
        "\n",
        "5. Model building\n",
        "\n",
        "\n",
        "6. Summary\n",
        "\n",
        "7. Recommendation\n",
        "\n",
        "\n",
        "8. References"
      ],
      "metadata": {
        "id": "4tQrnMCsueQa"
      }
    },
    {
      "cell_type": "markdown",
      "source": [
        "**1. Overview**\n",
        "\n",
        "This report aims to analyse the the PAMAP2 dataset. it will consist of the following actions to meet specific requirements.\n",
        "\n",
        "\n",
        "\n",
        "1.  Carry out thorough exploratory data analysis \n",
        "\n",
        "2. appropriately handle missing or dirty data\n",
        "\n",
        "2.  develop and test at least one hypothesis for a relationship between a single pair of attributes\n",
        "\n",
        "3.  develop and test at least one model which uses multiple attributes to make predictions.\n",
        "\n",
        "\n",
        "\n",
        "\n",
        "**1.1 Objective**\n",
        "\n",
        "To derive actionable insights from extensive data analysis to aid the goal of creating software and hardware that can determine the amount and type of physical activity that is being carried out."
      ],
      "metadata": {
        "id": "7DoTSP7cvOjn"
      }
    },
    {
      "cell_type": "markdown",
      "source": [
        "**1.2 Data collection**\n",
        "\n",
        "The dataset contains data of 18 different physical activities performed by 9 subjects. The data was collected from the subjects wearing the following:\n",
        "\n",
        "**Hardware information**\n",
        "\n",
        "According to the readme file, the following listed below were the hardware used to collect the data from the 9 subjects\n",
        "\n",
        "1.  Three colibri wireless IMU's(Initial Measurement Units): The IMU's had a sampling frequency of 100Hz, they were also positioned in different parts of the body.\n",
        "\n",
        "    *   1 IMU over the wrist on the dominant arm\n",
        "    *   1 IMU on the chest\n",
        "\n",
        "    *   1 IMU on the dominant side's ankle\n",
        "\n",
        "\n",
        "2.   HR-monitor: BM-CS5SR from BM innovations GmbH\n",
        "\n",
        "    *   The sampling frequency of the heart rate monitor is 90hz\n",
        "\n",
        "3.   Companion unit: Viliv S5 UMPC\n",
        "    * Intel Atom Z520 CPU (1.33GHz) and 1GB of RAM\n",
        "    * labeling the different performed activities was done via a GUI running on the Viliv\n",
        "\n",
        "\n",
        "**Physical activity information**\n",
        "\n",
        "\n",
        "\n",
        "Physical activitiy is simply any voluntarily body movement the body performs that burns calories. The Pamap datataset contains 18 different physical activities. They will be listed according to their activity IDs in the dataset:\n",
        "\n",
        "\n",
        "1. lying\n",
        "\n",
        "\n",
        "2. sitting\n",
        "\n",
        "\n",
        "3. standing\n",
        "\n",
        "\n",
        "4. walking\n",
        "\n",
        "\n",
        "5. running\n",
        "\n",
        "\n",
        "6. cycling\n",
        "\n",
        "\n",
        "7. Nordic walking\n",
        "\n",
        "\n",
        "9. watching TV\n",
        "\n",
        "\n",
        "10. computer work\n",
        "\n",
        "\n",
        "11. car driving\n",
        "\n",
        "\n",
        "12. ascending stairs\n",
        "\n",
        "\n",
        "13. descending stairs\n",
        "\n",
        "\n",
        "16. vacuum cleaning\n",
        "\n",
        "\n",
        "17. ironing\n",
        "\n",
        "\n",
        "18. folding laundry\n",
        "\n",
        "\n",
        "19. house cleaning\n",
        "\n",
        "\n",
        "20. playing soccer\n",
        "\n",
        "\n",
        "24. rope jumping\n",
        "\n",
        "\n",
        "\n",
        "**Subject Information**\n",
        "\n",
        "\n",
        "This is the information regarding the subjects that performed the different physical activities.\n",
        "\n",
        "*   The subjects are mainly employees or students at DFKI\n",
        "*   The subjects consist of 1 female and 8 males\n",
        "\n",
        "*   aged 27.22 ± 3.31 years\n",
        "*   BMI 25.11 ± 2.62 kgm-2\n",
        "\n",
        "\n",
        "\n",
        "There are two sets of data, optional and protocol. All the subjects performed the protocol activities but a few undertook the optional activities. The data was stored in a text-files(.dat) format."
      ],
      "metadata": {
        "id": "_UnLmwdfv-zb"
      }
    },
    {
      "cell_type": "markdown",
      "source": [
        "**2. Data Preprocessing**\n",
        "\n",
        "To begin the exploratory data analysis, the dataset needs to be preprocessed. the dataset did not have headers so we have created header tags according to the information in the readme file. "
      ],
      "metadata": {
        "id": "hBUPMFqXyDNm"
      }
    },
    {
      "cell_type": "code",
      "execution_count": null,
      "metadata": {
        "id": "HHWU85E5uUgY"
      },
      "outputs": [],
      "source": [
        "#to begin, we import necessary libraries in python.\n",
        "import numpy as np\n",
        "import pandas as pd\n",
        "import random\n",
        "import seaborn as sns\n",
        "from pandas.plotting import scatter_matrix\n",
        "import matplotlib.pyplot as plt\n"
      ]
    },
    {
      "cell_type": "code",
      "source": [
        "#creating header tags for the dat files \n",
        "#the header tags in numbers will be deleted because the columns are not necessary according to the read me file\n",
        "headers = ['timestamp',\n",
        "           'activityID',\n",
        "           'heartrate_bpm',\n",
        "           'imu_hand_temp',\n",
        "           'imu_hand_3d_acceleration_1',\n",
        "           'imu_hand_3d_acceleration_2',\n",
        "           'imu_hand_3d_acceleration_3',\n",
        "           '5',\n",
        "           '6',\n",
        "           '7',\n",
        "           'imu_hand_3d_gyroscope_1',\n",
        "           'imu_hand_3d_gyroscope_2',\n",
        "           'imu_hand_3d_gyroscope_3',\n",
        "           'imu_hand_3d_magnetometer_1',\n",
        "           'imu_hand_3d_magnetometer_2',\n",
        "           'imu_hand_3d_magnetometer_3',\n",
        "           '14',\n",
        "           '15',\n",
        "           '16',\n",
        "           '17',\n",
        "           'imu_chest_temp',\n",
        "           'imu_chest_3d_acceleration_1',\n",
        "           'imu_chest_3d_acceleration_2',\n",
        "           'imu_chest_3d_acceleration_3',\n",
        "           '5b',\n",
        "           '6b',\n",
        "           '7b',\n",
        "           'imu_chest_3d_gyroscope_1',\n",
        "           'imu_chest_3d_gyroscope_2',\n",
        "           'imu_chest_3d_gyroscope_3',\n",
        "           'imu_chest_3d_magnetometer_1',\n",
        "           'imu_chest_3d_magnetometer_2',\n",
        "           'imu_chest_3d_magnetometer_3',\n",
        "           '14b',\n",
        "           '15b',\n",
        "           '16b',\n",
        "           '17b',\n",
        "           'imu_ankle_temp',\n",
        "           'imu_ankle_3d_acceleration_1',\n",
        "           'imu_ankle_3d_acceleration_2',\n",
        "           'imu_ankle_3d_acceleration_3',\n",
        "           '5c',\n",
        "           '6c',\n",
        "           '7c',\n",
        "           'imu_ankle_3d_gyroscope_1',\n",
        "           'imu_ankle_3d_gyroscope_2',\n",
        "           'imu_ankle_3d_gyroscope_3',\n",
        "           'imu_ankle_3d_magnetometer_1',\n",
        "           'imu_ankle_3d_magnetometer_2',\n",
        "           'imu_ankle_3d_magnetometer_3',\n",
        "           '14c',\n",
        "           '15c',\n",
        "           '16c',\n",
        "           '17c',\n",
        "           ]\n",
        "\n",
        "\n",
        "  \n"
      ],
      "metadata": {
        "id": "nD1x5rhn1hz7"
      },
      "execution_count": null,
      "outputs": []
    },
    {
      "cell_type": "code",
      "source": [
        "#creating activity id dicts\n",
        "Activity_ID = {1: \"lying\",\n",
        "               2: \"sitting\",\n",
        "               3: \"standing\",\n",
        "               4: \"walking\",\n",
        "               5: 'running',\n",
        "               6: 'cycling',\n",
        "               7: 'Nordic_walking', \n",
        "               9: 'watching_TV',\n",
        "               10: 'computer_work',\n",
        "               11: 'car_driving',\n",
        "               12: 'ascending_stairs',\n",
        "               13: 'descending_stairs',\n",
        "               16: 'vacuum_cleaning',\n",
        "               17: 'ironing',\n",
        "               18: 'folding_laundry',\n",
        "               19: 'house_cleaning',\n",
        "               20: 'playing_soccer',\n",
        "               24: 'rope_jumping',\n",
        "               0:  'other (transient activities)'}#this will be deleted because it is not necessary according to readme file"
      ],
      "metadata": {
        "id": "tpLqU03Q2rKz"
      },
      "execution_count": null,
      "outputs": []
    },
    {
      "cell_type": "code",
      "source": [
        "#connecting google drive to the notebook to be able to access the data\n",
        "\n",
        "from google.colab import drive\n",
        "drive.mount('/content/drive')\n",
        "\n"
      ],
      "metadata": {
        "colab": {
          "base_uri": "https://localhost:8080/"
        },
        "id": "5n_F7Uv42ywJ",
        "outputId": "279732c6-d229-4573-95e9-0a762e62087e"
      },
      "execution_count": null,
      "outputs": [
        {
          "output_type": "stream",
          "name": "stdout",
          "text": [
            "Drive already mounted at /content/drive; to attempt to forcibly remount, call drive.mount(\"/content/drive\", force_remount=True).\n"
          ]
        }
      ]
    },
    {
      "cell_type": "code",
      "source": [
        "#reading the protocol files into the notebook\n",
        "P_101 = pd.read_table('/content/drive/MyDrive/DSRM_Notebooks/dataset/Dataset/Protocol/subject101.dat', sep=' ', names=headers)\n",
        "P_102 = pd.read_table('/content/drive/MyDrive/DSRM_Notebooks/dataset/Dataset/Protocol/subject102.dat', sep=' ', names=headers)\n",
        "P_103 = pd.read_table('/content/drive/MyDrive/DSRM_Notebooks/dataset/Dataset/Protocol/subject103.dat', sep=' ', names=headers)\n",
        "P_104 = pd.read_table('/content/drive/MyDrive/DSRM_Notebooks/dataset/Dataset/Protocol/subject104.dat', sep=' ', names=headers)\n",
        "P_105 = pd.read_table('/content/drive/MyDrive/DSRM_Notebooks/dataset/Dataset/Protocol/subject105.dat', sep=' ', names=headers)\n",
        "P_106 = pd.read_table('/content/drive/MyDrive/DSRM_Notebooks/dataset/Dataset/Protocol/subject106.dat', sep=' ', names=headers)\n",
        "P_107 = pd.read_table('/content/drive/MyDrive/DSRM_Notebooks/dataset/Dataset/Protocol/subject107.dat', sep=' ', names=headers)\n",
        "P_108 = pd.read_table('/content/drive/MyDrive/DSRM_Notebooks/dataset/Dataset/Protocol/subject108.dat', sep=' ', names=headers)\n",
        "P_109 = pd.read_table('/content/drive/MyDrive/DSRM_Notebooks/dataset/Dataset/Protocol/subject109.dat', sep=' ', names=headers)"
      ],
      "metadata": {
        "id": "AlOPbMJc3NQU"
      },
      "execution_count": null,
      "outputs": []
    },
    {
      "cell_type": "code",
      "source": [
        "#reading the optional files into the notebook\n",
        "O_101 = pd.read_table('/content/drive/MyDrive/DSRM_Notebooks/dataset/Dataset/Optional/subject101.dat', sep = ' ', names = headers)\n",
        "O_105 = pd.read_table('/content/drive/MyDrive/DSRM_Notebooks/dataset/Dataset/Optional/subject105.dat', sep = ' ', names = headers)\n",
        "O_106 = pd.read_table('/content/drive/MyDrive/DSRM_Notebooks/dataset/Dataset/Optional/subject106.dat', sep = ' ', names = headers)\n",
        "O_108 = pd.read_table('/content/drive/MyDrive/DSRM_Notebooks/dataset/Dataset/Optional/subject108.dat', sep = ' ', names = headers)\n",
        "O_109 = pd.read_table('/content/drive/MyDrive/DSRM_Notebooks/dataset/Dataset/Optional/subject109.dat', sep = ' ', names = headers)"
      ],
      "metadata": {
        "id": "zIYuoiDN3m30"
      },
      "execution_count": null,
      "outputs": []
    },
    {
      "cell_type": "code",
      "source": [
        "subject_information = pd.read_csv('/content/drive/MyDrive/DSRM_Notebooks/dataset/Dataset/subjectInformation.csv',index_col = None)\n",
        "performed_activities = pd.read_csv('/content/drive/MyDrive/DSRM_Notebooks/dataset/Dataset/PerformedActivitiesSummary.csv',index_col = None)"
      ],
      "metadata": {
        "id": "_vtQUi-M3wZ5"
      },
      "execution_count": null,
      "outputs": []
    },
    {
      "cell_type": "markdown",
      "source": [
        "**2.1 Merging Data files**\n",
        "\n",
        "The data was stored in seperate files, protocol files and optional files. data merging is a necessary step in the analysis because the dataset is large and stored in different files. Data merging will make the analysis easier and faster. Since the files have the same number of columns and header values,they can be merged into one dataframe."
      ],
      "metadata": {
        "id": "ctOFPk1h5Dwk"
      }
    },
    {
      "cell_type": "code",
      "source": [
        "#convert the dataframes into a list\n",
        "list_of_dataframes = [P_101,P_102,P_103,P_104,P_105,P_106,P_107,P_108,P_109,O_101,O_105,O_106,O_108,O_109]\n",
        "#create a list of subject tags\n",
        "list_of_subjects = ['subject101p','subject102p','subject103p','subject104p','subject105p','subject106p','subject107p','subject108p','subject109p','subject101o','subject105o','subject106o','subject108o','subject109o']\n",
        "new_data = []\n",
        "i = 0 \n",
        "for d in list_of_dataframes:\n",
        "    d['subject'] = list_of_subjects[i]\n",
        "    i+=1\n",
        "    new_data.append(d)"
      ],
      "metadata": {
        "id": "PPEE4VQp3wWv"
      },
      "execution_count": null,
      "outputs": []
    },
    {
      "cell_type": "code",
      "source": [
        "#merging the dataframe to check the analysis together\n",
        "data = pd.concat(new_data)"
      ],
      "metadata": {
        "id": "E3nbcIcC3wSa"
      },
      "execution_count": null,
      "outputs": []
    },
    {
      "cell_type": "markdown",
      "source": [
        "**2.2 Understanding the data**\n",
        "\n",
        "it is important to look at the dataframe to understand various features of the data."
      ],
      "metadata": {
        "id": "1ViU_LgtnKEa"
      }
    },
    {
      "cell_type": "code",
      "source": [
        "data.head()"
      ],
      "metadata": {
        "id": "yASzO4iq3wB_",
        "colab": {
          "base_uri": "https://localhost:8080/",
          "height": 299
        },
        "outputId": "fc92d992-6d9f-4c5c-91b9-5b07a9992f24"
      },
      "execution_count": null,
      "outputs": [
        {
          "output_type": "execute_result",
          "data": {
            "text/plain": [
              "   timestamp  activityID  heartrate_bpm  imu_hand_temp  \\\n",
              "0       8.38           0          104.0           30.0   \n",
              "1       8.39           0            NaN           30.0   \n",
              "2       8.40           0            NaN           30.0   \n",
              "3       8.41           0            NaN           30.0   \n",
              "4       8.42           0            NaN           30.0   \n",
              "\n",
              "   imu_hand_3d_acceleration_1  imu_hand_3d_acceleration_2  \\\n",
              "0                     2.37223                     8.60074   \n",
              "1                     2.18837                     8.56560   \n",
              "2                     2.37357                     8.60107   \n",
              "3                     2.07473                     8.52853   \n",
              "4                     2.22936                     8.83122   \n",
              "\n",
              "   imu_hand_3d_acceleration_3        5        6        7  ...  \\\n",
              "0                     3.51048  2.43954  8.76165  3.35465  ...   \n",
              "1                     3.66179  2.39494  8.55081  3.64207  ...   \n",
              "2                     3.54898  2.30514  8.53644  3.73280  ...   \n",
              "3                     3.66021  2.33528  8.53622  3.73277  ...   \n",
              "4                     3.70000  2.23055  8.59741  3.76295  ...   \n",
              "\n",
              "   imu_ankle_3d_gyroscope_2  imu_ankle_3d_gyroscope_3  \\\n",
              "0                  0.009250                 -0.017580   \n",
              "1                 -0.004638                  0.000368   \n",
              "2                  0.000148                  0.022495   \n",
              "3                 -0.020301                  0.011275   \n",
              "4                 -0.014303                 -0.002823   \n",
              "\n",
              "   imu_ankle_3d_magnetometer_1  imu_ankle_3d_magnetometer_2  \\\n",
              "0                     -61.1888                     -38.9599   \n",
              "1                     -59.8479                     -38.8919   \n",
              "2                     -60.7361                     -39.4138   \n",
              "3                     -60.4091                     -38.7635   \n",
              "4                     -61.5199                     -39.3879   \n",
              "\n",
              "   imu_ankle_3d_magnetometer_3  14c  15c  16c  17c      subject  \n",
              "0                     -58.1438  1.0  0.0  0.0  0.0  subject101p  \n",
              "1                     -58.5253  1.0  0.0  0.0  0.0  subject101p  \n",
              "2                     -58.3999  1.0  0.0  0.0  0.0  subject101p  \n",
              "3                     -58.3956  1.0  0.0  0.0  0.0  subject101p  \n",
              "4                     -58.2694  1.0  0.0  0.0  0.0  subject101p  \n",
              "\n",
              "[5 rows x 55 columns]"
            ],
            "text/html": [
              "\n",
              "  <div id=\"df-be1cfe9b-a27f-4157-a8b9-2c2e38a2b1ae\">\n",
              "    <div class=\"colab-df-container\">\n",
              "      <div>\n",
              "<style scoped>\n",
              "    .dataframe tbody tr th:only-of-type {\n",
              "        vertical-align: middle;\n",
              "    }\n",
              "\n",
              "    .dataframe tbody tr th {\n",
              "        vertical-align: top;\n",
              "    }\n",
              "\n",
              "    .dataframe thead th {\n",
              "        text-align: right;\n",
              "    }\n",
              "</style>\n",
              "<table border=\"1\" class=\"dataframe\">\n",
              "  <thead>\n",
              "    <tr style=\"text-align: right;\">\n",
              "      <th></th>\n",
              "      <th>timestamp</th>\n",
              "      <th>activityID</th>\n",
              "      <th>heartrate_bpm</th>\n",
              "      <th>imu_hand_temp</th>\n",
              "      <th>imu_hand_3d_acceleration_1</th>\n",
              "      <th>imu_hand_3d_acceleration_2</th>\n",
              "      <th>imu_hand_3d_acceleration_3</th>\n",
              "      <th>5</th>\n",
              "      <th>6</th>\n",
              "      <th>7</th>\n",
              "      <th>...</th>\n",
              "      <th>imu_ankle_3d_gyroscope_2</th>\n",
              "      <th>imu_ankle_3d_gyroscope_3</th>\n",
              "      <th>imu_ankle_3d_magnetometer_1</th>\n",
              "      <th>imu_ankle_3d_magnetometer_2</th>\n",
              "      <th>imu_ankle_3d_magnetometer_3</th>\n",
              "      <th>14c</th>\n",
              "      <th>15c</th>\n",
              "      <th>16c</th>\n",
              "      <th>17c</th>\n",
              "      <th>subject</th>\n",
              "    </tr>\n",
              "  </thead>\n",
              "  <tbody>\n",
              "    <tr>\n",
              "      <th>0</th>\n",
              "      <td>8.38</td>\n",
              "      <td>0</td>\n",
              "      <td>104.0</td>\n",
              "      <td>30.0</td>\n",
              "      <td>2.37223</td>\n",
              "      <td>8.60074</td>\n",
              "      <td>3.51048</td>\n",
              "      <td>2.43954</td>\n",
              "      <td>8.76165</td>\n",
              "      <td>3.35465</td>\n",
              "      <td>...</td>\n",
              "      <td>0.009250</td>\n",
              "      <td>-0.017580</td>\n",
              "      <td>-61.1888</td>\n",
              "      <td>-38.9599</td>\n",
              "      <td>-58.1438</td>\n",
              "      <td>1.0</td>\n",
              "      <td>0.0</td>\n",
              "      <td>0.0</td>\n",
              "      <td>0.0</td>\n",
              "      <td>subject101p</td>\n",
              "    </tr>\n",
              "    <tr>\n",
              "      <th>1</th>\n",
              "      <td>8.39</td>\n",
              "      <td>0</td>\n",
              "      <td>NaN</td>\n",
              "      <td>30.0</td>\n",
              "      <td>2.18837</td>\n",
              "      <td>8.56560</td>\n",
              "      <td>3.66179</td>\n",
              "      <td>2.39494</td>\n",
              "      <td>8.55081</td>\n",
              "      <td>3.64207</td>\n",
              "      <td>...</td>\n",
              "      <td>-0.004638</td>\n",
              "      <td>0.000368</td>\n",
              "      <td>-59.8479</td>\n",
              "      <td>-38.8919</td>\n",
              "      <td>-58.5253</td>\n",
              "      <td>1.0</td>\n",
              "      <td>0.0</td>\n",
              "      <td>0.0</td>\n",
              "      <td>0.0</td>\n",
              "      <td>subject101p</td>\n",
              "    </tr>\n",
              "    <tr>\n",
              "      <th>2</th>\n",
              "      <td>8.40</td>\n",
              "      <td>0</td>\n",
              "      <td>NaN</td>\n",
              "      <td>30.0</td>\n",
              "      <td>2.37357</td>\n",
              "      <td>8.60107</td>\n",
              "      <td>3.54898</td>\n",
              "      <td>2.30514</td>\n",
              "      <td>8.53644</td>\n",
              "      <td>3.73280</td>\n",
              "      <td>...</td>\n",
              "      <td>0.000148</td>\n",
              "      <td>0.022495</td>\n",
              "      <td>-60.7361</td>\n",
              "      <td>-39.4138</td>\n",
              "      <td>-58.3999</td>\n",
              "      <td>1.0</td>\n",
              "      <td>0.0</td>\n",
              "      <td>0.0</td>\n",
              "      <td>0.0</td>\n",
              "      <td>subject101p</td>\n",
              "    </tr>\n",
              "    <tr>\n",
              "      <th>3</th>\n",
              "      <td>8.41</td>\n",
              "      <td>0</td>\n",
              "      <td>NaN</td>\n",
              "      <td>30.0</td>\n",
              "      <td>2.07473</td>\n",
              "      <td>8.52853</td>\n",
              "      <td>3.66021</td>\n",
              "      <td>2.33528</td>\n",
              "      <td>8.53622</td>\n",
              "      <td>3.73277</td>\n",
              "      <td>...</td>\n",
              "      <td>-0.020301</td>\n",
              "      <td>0.011275</td>\n",
              "      <td>-60.4091</td>\n",
              "      <td>-38.7635</td>\n",
              "      <td>-58.3956</td>\n",
              "      <td>1.0</td>\n",
              "      <td>0.0</td>\n",
              "      <td>0.0</td>\n",
              "      <td>0.0</td>\n",
              "      <td>subject101p</td>\n",
              "    </tr>\n",
              "    <tr>\n",
              "      <th>4</th>\n",
              "      <td>8.42</td>\n",
              "      <td>0</td>\n",
              "      <td>NaN</td>\n",
              "      <td>30.0</td>\n",
              "      <td>2.22936</td>\n",
              "      <td>8.83122</td>\n",
              "      <td>3.70000</td>\n",
              "      <td>2.23055</td>\n",
              "      <td>8.59741</td>\n",
              "      <td>3.76295</td>\n",
              "      <td>...</td>\n",
              "      <td>-0.014303</td>\n",
              "      <td>-0.002823</td>\n",
              "      <td>-61.5199</td>\n",
              "      <td>-39.3879</td>\n",
              "      <td>-58.2694</td>\n",
              "      <td>1.0</td>\n",
              "      <td>0.0</td>\n",
              "      <td>0.0</td>\n",
              "      <td>0.0</td>\n",
              "      <td>subject101p</td>\n",
              "    </tr>\n",
              "  </tbody>\n",
              "</table>\n",
              "<p>5 rows × 55 columns</p>\n",
              "</div>\n",
              "      <button class=\"colab-df-convert\" onclick=\"convertToInteractive('df-be1cfe9b-a27f-4157-a8b9-2c2e38a2b1ae')\"\n",
              "              title=\"Convert this dataframe to an interactive table.\"\n",
              "              style=\"display:none;\">\n",
              "        \n",
              "  <svg xmlns=\"http://www.w3.org/2000/svg\" height=\"24px\"viewBox=\"0 0 24 24\"\n",
              "       width=\"24px\">\n",
              "    <path d=\"M0 0h24v24H0V0z\" fill=\"none\"/>\n",
              "    <path d=\"M18.56 5.44l.94 2.06.94-2.06 2.06-.94-2.06-.94-.94-2.06-.94 2.06-2.06.94zm-11 1L8.5 8.5l.94-2.06 2.06-.94-2.06-.94L8.5 2.5l-.94 2.06-2.06.94zm10 10l.94 2.06.94-2.06 2.06-.94-2.06-.94-.94-2.06-.94 2.06-2.06.94z\"/><path d=\"M17.41 7.96l-1.37-1.37c-.4-.4-.92-.59-1.43-.59-.52 0-1.04.2-1.43.59L10.3 9.45l-7.72 7.72c-.78.78-.78 2.05 0 2.83L4 21.41c.39.39.9.59 1.41.59.51 0 1.02-.2 1.41-.59l7.78-7.78 2.81-2.81c.8-.78.8-2.07 0-2.86zM5.41 20L4 18.59l7.72-7.72 1.47 1.35L5.41 20z\"/>\n",
              "  </svg>\n",
              "      </button>\n",
              "      \n",
              "  <style>\n",
              "    .colab-df-container {\n",
              "      display:flex;\n",
              "      flex-wrap:wrap;\n",
              "      gap: 12px;\n",
              "    }\n",
              "\n",
              "    .colab-df-convert {\n",
              "      background-color: #E8F0FE;\n",
              "      border: none;\n",
              "      border-radius: 50%;\n",
              "      cursor: pointer;\n",
              "      display: none;\n",
              "      fill: #1967D2;\n",
              "      height: 32px;\n",
              "      padding: 0 0 0 0;\n",
              "      width: 32px;\n",
              "    }\n",
              "\n",
              "    .colab-df-convert:hover {\n",
              "      background-color: #E2EBFA;\n",
              "      box-shadow: 0px 1px 2px rgba(60, 64, 67, 0.3), 0px 1px 3px 1px rgba(60, 64, 67, 0.15);\n",
              "      fill: #174EA6;\n",
              "    }\n",
              "\n",
              "    [theme=dark] .colab-df-convert {\n",
              "      background-color: #3B4455;\n",
              "      fill: #D2E3FC;\n",
              "    }\n",
              "\n",
              "    [theme=dark] .colab-df-convert:hover {\n",
              "      background-color: #434B5C;\n",
              "      box-shadow: 0px 1px 3px 1px rgba(0, 0, 0, 0.15);\n",
              "      filter: drop-shadow(0px 1px 2px rgba(0, 0, 0, 0.3));\n",
              "      fill: #FFFFFF;\n",
              "    }\n",
              "  </style>\n",
              "\n",
              "      <script>\n",
              "        const buttonEl =\n",
              "          document.querySelector('#df-be1cfe9b-a27f-4157-a8b9-2c2e38a2b1ae button.colab-df-convert');\n",
              "        buttonEl.style.display =\n",
              "          google.colab.kernel.accessAllowed ? 'block' : 'none';\n",
              "\n",
              "        async function convertToInteractive(key) {\n",
              "          const element = document.querySelector('#df-be1cfe9b-a27f-4157-a8b9-2c2e38a2b1ae');\n",
              "          const dataTable =\n",
              "            await google.colab.kernel.invokeFunction('convertToInteractive',\n",
              "                                                     [key], {});\n",
              "          if (!dataTable) return;\n",
              "\n",
              "          const docLinkHtml = 'Like what you see? Visit the ' +\n",
              "            '<a target=\"_blank\" href=https://colab.research.google.com/notebooks/data_table.ipynb>data table notebook</a>'\n",
              "            + ' to learn more about interactive tables.';\n",
              "          element.innerHTML = '';\n",
              "          dataTable['output_type'] = 'display_data';\n",
              "          await google.colab.output.renderOutput(dataTable, element);\n",
              "          const docLink = document.createElement('div');\n",
              "          docLink.innerHTML = docLinkHtml;\n",
              "          element.appendChild(docLink);\n",
              "        }\n",
              "      </script>\n",
              "    </div>\n",
              "  </div>\n",
              "  "
            ]
          },
          "metadata": {},
          "execution_count": 243
        }
      ]
    },
    {
      "cell_type": "code",
      "source": [
        "data.shape"
      ],
      "metadata": {
        "colab": {
          "base_uri": "https://localhost:8080/"
        },
        "id": "kXiMTBeKndTE",
        "outputId": "43861cc6-1db4-4596-fd21-497661d6948d"
      },
      "execution_count": null,
      "outputs": [
        {
          "output_type": "execute_result",
          "data": {
            "text/plain": [
              "(3850505, 55)"
            ]
          },
          "metadata": {},
          "execution_count": 244
        }
      ]
    },
    {
      "cell_type": "markdown",
      "source": [
        "The data comprises of 55 columns and 3,850,505 rows"
      ],
      "metadata": {
        "id": "FZfxTrulvnR2"
      }
    },
    {
      "cell_type": "code",
      "source": [
        "data.columns"
      ],
      "metadata": {
        "colab": {
          "base_uri": "https://localhost:8080/"
        },
        "id": "WjPZKsS-n5ZM",
        "outputId": "04db5f7c-fc48-425b-afdc-6f941ec0b752"
      },
      "execution_count": null,
      "outputs": [
        {
          "output_type": "execute_result",
          "data": {
            "text/plain": [
              "Index(['timestamp', 'activityID', 'heartrate_bpm', 'imu_hand_temp',\n",
              "       'imu_hand_3d_acceleration_1', 'imu_hand_3d_acceleration_2',\n",
              "       'imu_hand_3d_acceleration_3', '5', '6', '7', 'imu_hand_3d_gyroscope_1',\n",
              "       'imu_hand_3d_gyroscope_2', 'imu_hand_3d_gyroscope_3',\n",
              "       'imu_hand_3d_magnetometer_1', 'imu_hand_3d_magnetometer_2',\n",
              "       'imu_hand_3d_magnetometer_3', '14', '15', '16', '17', 'imu_chest_temp',\n",
              "       'imu_chest_3d_acceleration_1', 'imu_chest_3d_acceleration_2',\n",
              "       'imu_chest_3d_acceleration_3', '5b', '6b', '7b',\n",
              "       'imu_chest_3d_gyroscope_1', 'imu_chest_3d_gyroscope_2',\n",
              "       'imu_chest_3d_gyroscope_3', 'imu_chest_3d_magnetometer_1',\n",
              "       'imu_chest_3d_magnetometer_2', 'imu_chest_3d_magnetometer_3', '14b',\n",
              "       '15b', '16b', '17b', 'imu_ankle_temp', 'imu_ankle_3d_acceleration_1',\n",
              "       'imu_ankle_3d_acceleration_2', 'imu_ankle_3d_acceleration_3', '5c',\n",
              "       '6c', '7c', 'imu_ankle_3d_gyroscope_1', 'imu_ankle_3d_gyroscope_2',\n",
              "       'imu_ankle_3d_gyroscope_3', 'imu_ankle_3d_magnetometer_1',\n",
              "       'imu_ankle_3d_magnetometer_2', 'imu_ankle_3d_magnetometer_3', '14c',\n",
              "       '15c', '16c', '17c', 'subject'],\n",
              "      dtype='object')"
            ]
          },
          "metadata": {},
          "execution_count": 245
        }
      ]
    },
    {
      "cell_type": "markdown",
      "source": [
        "**2.3 Data Cleaning**\n",
        "\n",
        "From the dataset above, it can be seen that data cleaning is required.\n",
        "\n",
        "To clean the data:\n",
        "\n",
        "The columns 5 - 7 will be dropped because according to the readme file  due to high impacts caused by certain movements with acceleration over 6g, it gets saturated sometimes. Therefore, the use of the data from the first accelerometer (with the scale of ±16g) is recommended. \n",
        "\n",
        "columns 14 - 17 will also be dropped because they are invalid in the data collection"
      ],
      "metadata": {
        "id": "VyEp7WhLn-cc"
      }
    },
    {
      "cell_type": "code",
      "source": [
        "#dropping unneccessary columns\n",
        "data = data.drop(['5','6','7','14','15','16','17','5b','6b','7b','14b','15b','16b','17b','5c','6c','7c','14c','15c','16c','17c'], axis = 1)"
      ],
      "metadata": {
        "id": "Ndva_gWhn6oH"
      },
      "execution_count": null,
      "outputs": []
    },
    {
      "cell_type": "code",
      "source": [
        "data.columns"
      ],
      "metadata": {
        "colab": {
          "base_uri": "https://localhost:8080/"
        },
        "id": "9Twixy8doRY7",
        "outputId": "62b248c2-d37c-46bf-e44a-e9cfc2f5dd9c"
      },
      "execution_count": null,
      "outputs": [
        {
          "output_type": "execute_result",
          "data": {
            "text/plain": [
              "Index(['timestamp', 'activityID', 'heartrate_bpm', 'imu_hand_temp',\n",
              "       'imu_hand_3d_acceleration_1', 'imu_hand_3d_acceleration_2',\n",
              "       'imu_hand_3d_acceleration_3', 'imu_hand_3d_gyroscope_1',\n",
              "       'imu_hand_3d_gyroscope_2', 'imu_hand_3d_gyroscope_3',\n",
              "       'imu_hand_3d_magnetometer_1', 'imu_hand_3d_magnetometer_2',\n",
              "       'imu_hand_3d_magnetometer_3', 'imu_chest_temp',\n",
              "       'imu_chest_3d_acceleration_1', 'imu_chest_3d_acceleration_2',\n",
              "       'imu_chest_3d_acceleration_3', 'imu_chest_3d_gyroscope_1',\n",
              "       'imu_chest_3d_gyroscope_2', 'imu_chest_3d_gyroscope_3',\n",
              "       'imu_chest_3d_magnetometer_1', 'imu_chest_3d_magnetometer_2',\n",
              "       'imu_chest_3d_magnetometer_3', 'imu_ankle_temp',\n",
              "       'imu_ankle_3d_acceleration_1', 'imu_ankle_3d_acceleration_2',\n",
              "       'imu_ankle_3d_acceleration_3', 'imu_ankle_3d_gyroscope_1',\n",
              "       'imu_ankle_3d_gyroscope_2', 'imu_ankle_3d_gyroscope_3',\n",
              "       'imu_ankle_3d_magnetometer_1', 'imu_ankle_3d_magnetometer_2',\n",
              "       'imu_ankle_3d_magnetometer_3', 'subject'],\n",
              "      dtype='object')"
            ]
          },
          "metadata": {},
          "execution_count": 247
        }
      ]
    },
    {
      "cell_type": "code",
      "source": [
        "data.shape"
      ],
      "metadata": {
        "colab": {
          "base_uri": "https://localhost:8080/"
        },
        "id": "atQ3n14loUkW",
        "outputId": "3524b534-8059-4909-e98e-3c931a686d04"
      },
      "execution_count": null,
      "outputs": [
        {
          "output_type": "execute_result",
          "data": {
            "text/plain": [
              "(3850505, 34)"
            ]
          },
          "metadata": {},
          "execution_count": 248
        }
      ]
    },
    {
      "cell_type": "markdown",
      "source": [
        "After dropping some columns, the dataframe has reduced to 34 columns "
      ],
      "metadata": {
        "id": "FUUqSPyiv_L7"
      }
    },
    {
      "cell_type": "markdown",
      "source": [
        "**2.4 Filtering the data**\n",
        "\n",
        "The optional dataset will be filtered out because i believe since the activities were performed by only a few of the subjects, it will not aid our analysis.\n",
        "\n",
        "data labelled with activity ID - 0 will be dropped because they are transient activities according to the readme file which are not required for analysis.\n",
        "\n",
        "data with heartrate column below 54 and above 201 will be removed because normal heartrate is between 60 and 202.\n",
        "\n",
        "data with any temperature column below 30 will be dropped because any temperature below 30 is inaccurate."
      ],
      "metadata": {
        "id": "lHglHQsooem9"
      }
    },
    {
      "cell_type": "code",
      "source": [
        "data = data.set_index('subject')\n",
        "data = data.drop(['subject101o','subject105o','subject106o','subject108o','subject109o'], axis = 0)"
      ],
      "metadata": {
        "id": "KZGOSlfbobBL"
      },
      "execution_count": null,
      "outputs": []
    },
    {
      "cell_type": "code",
      "source": [
        "data = data[data['activityID']>0]#mentioned in the read me file"
      ],
      "metadata": {
        "id": "PmcNK8m3ozf-"
      },
      "execution_count": null,
      "outputs": []
    },
    {
      "cell_type": "code",
      "source": [
        "data = data[data['heartrate_bpm']>54]"
      ],
      "metadata": {
        "id": "WcnqQMNWo2ih"
      },
      "execution_count": null,
      "outputs": []
    },
    {
      "cell_type": "code",
      "source": [
        "data = data[data['heartrate_bpm']<201]"
      ],
      "metadata": {
        "id": "fHWC6i3yo5Gv"
      },
      "execution_count": null,
      "outputs": []
    },
    {
      "cell_type": "code",
      "source": [
        "data = data[data['imu_hand_temp']>30]"
      ],
      "metadata": {
        "id": "VbH9X1pto_BN"
      },
      "execution_count": null,
      "outputs": []
    },
    {
      "cell_type": "code",
      "source": [
        "data = data[data['imu_chest_temp']>30]"
      ],
      "metadata": {
        "id": "zX7XpdiYpLsG"
      },
      "execution_count": null,
      "outputs": []
    },
    {
      "cell_type": "code",
      "source": [
        "data = data[data['imu_ankle_temp']>30]"
      ],
      "metadata": {
        "id": "_n-zh_ohpLoY"
      },
      "execution_count": null,
      "outputs": []
    },
    {
      "cell_type": "code",
      "source": [
        "data=data.reset_index(drop = False)"
      ],
      "metadata": {
        "id": "m8Ib67J5pa8g"
      },
      "execution_count": null,
      "outputs": []
    },
    {
      "cell_type": "code",
      "source": [
        "data.isnull().sum()"
      ],
      "metadata": {
        "colab": {
          "base_uri": "https://localhost:8080/"
        },
        "id": "00iX_iqJpcQx",
        "outputId": "354783f9-0f9c-4191-b118-ffe283ae0b74"
      },
      "execution_count": null,
      "outputs": [
        {
          "output_type": "execute_result",
          "data": {
            "text/plain": [
              "subject                        0\n",
              "timestamp                      0\n",
              "activityID                     0\n",
              "heartrate_bpm                  0\n",
              "imu_hand_temp                  0\n",
              "imu_hand_3d_acceleration_1     0\n",
              "imu_hand_3d_acceleration_2     0\n",
              "imu_hand_3d_acceleration_3     0\n",
              "imu_hand_3d_gyroscope_1        0\n",
              "imu_hand_3d_gyroscope_2        0\n",
              "imu_hand_3d_gyroscope_3        0\n",
              "imu_hand_3d_magnetometer_1     0\n",
              "imu_hand_3d_magnetometer_2     0\n",
              "imu_hand_3d_magnetometer_3     0\n",
              "imu_chest_temp                 0\n",
              "imu_chest_3d_acceleration_1    0\n",
              "imu_chest_3d_acceleration_2    0\n",
              "imu_chest_3d_acceleration_3    0\n",
              "imu_chest_3d_gyroscope_1       0\n",
              "imu_chest_3d_gyroscope_2       0\n",
              "imu_chest_3d_gyroscope_3       0\n",
              "imu_chest_3d_magnetometer_1    0\n",
              "imu_chest_3d_magnetometer_2    0\n",
              "imu_chest_3d_magnetometer_3    0\n",
              "imu_ankle_temp                 0\n",
              "imu_ankle_3d_acceleration_1    0\n",
              "imu_ankle_3d_acceleration_2    0\n",
              "imu_ankle_3d_acceleration_3    0\n",
              "imu_ankle_3d_gyroscope_1       0\n",
              "imu_ankle_3d_gyroscope_2       0\n",
              "imu_ankle_3d_gyroscope_3       0\n",
              "imu_ankle_3d_magnetometer_1    0\n",
              "imu_ankle_3d_magnetometer_2    0\n",
              "imu_ankle_3d_magnetometer_3    0\n",
              "dtype: int64"
            ]
          },
          "metadata": {},
          "execution_count": 257
        }
      ]
    },
    {
      "cell_type": "code",
      "source": [
        "data.shape"
      ],
      "metadata": {
        "colab": {
          "base_uri": "https://localhost:8080/"
        },
        "id": "CHH7tfw0pjBt",
        "outputId": "580b6cb1-0f87-46e4-926b-0f17e06d5b03"
      },
      "execution_count": null,
      "outputs": [
        {
          "output_type": "execute_result",
          "data": {
            "text/plain": [
              "(160844, 34)"
            ]
          },
          "metadata": {},
          "execution_count": 258
        }
      ]
    },
    {
      "cell_type": "markdown",
      "source": [
        "The dataframe has been reduced to 34 columns and 160844 rows. There are no longer NAN values. The dataframe is ready for exploratory data analysis"
      ],
      "metadata": {
        "id": "DNaVKOyVwX3b"
      }
    },
    {
      "cell_type": "markdown",
      "source": [
        "**2.5 Development and Testing data**\n",
        "\n",
        "The data will be split into two equal parts. 50% will be the development set and the other 50% will be testing set. The development set will be used in the exploratory data analysis while the testing set will be used in hypothesis testing. This will aid in better analysis and will ensure no p-hacking."
      ],
      "metadata": {
        "id": "_Ka0Zw7ep53-"
      }
    },
    {
      "cell_type": "code",
      "source": [
        "data = data.reset_index(drop = True)\n",
        "\n",
        "random.seed(381)  #set random seed so the results can be replicated\n",
        "\n",
        "development_data = data.sample(frac = 0.5,random_state = 381)\n",
        "testing_data = data.loc[data.index.isin(development_data.index)]\n",
        "print(development_data.shape)\n",
        "print(testing_data.shape)"
      ],
      "metadata": {
        "colab": {
          "base_uri": "https://localhost:8080/"
        },
        "id": "8BeRxkKPr0dV",
        "outputId": "46b7df48-5b30-426c-c555-f3335855004a"
      },
      "execution_count": null,
      "outputs": [
        {
          "output_type": "stream",
          "name": "stdout",
          "text": [
            "(80422, 34)\n",
            "(80422, 34)\n"
          ]
        }
      ]
    },
    {
      "cell_type": "markdown",
      "source": [
        "**3. Exploratory data analysis**\n",
        "\n",
        "The objective of this report is to give actionable recommendations to the development of a software/hardware. in order to achieve the objective, the first step will be to explore the data to find relationships between variables and gain meaningful insights from the dataset."
      ],
      "metadata": {
        "id": "4-R5vU3sr3_0"
      }
    },
    {
      "cell_type": "code",
      "source": [
        "dev_data = development_data"
      ],
      "metadata": {
        "id": "WwSMZjbOqKsm"
      },
      "execution_count": null,
      "outputs": []
    },
    {
      "cell_type": "code",
      "source": [
        "dev_data.describe()"
      ],
      "metadata": {
        "colab": {
          "base_uri": "https://localhost:8080/",
          "height": 393
        },
        "id": "8HVcgCnQqKm1",
        "outputId": "4db91f78-4bd0-427d-bb38-3cbd96325585"
      },
      "execution_count": null,
      "outputs": [
        {
          "output_type": "execute_result",
          "data": {
            "text/plain": [
              "          timestamp    activityID  heartrate_bpm  imu_hand_temp  \\\n",
              "count  80422.000000  80422.000000   80422.000000   80422.000000   \n",
              "mean    1560.920656      8.087265     104.787173      33.121595   \n",
              "std     1017.224512      6.190019      26.166685       1.353601   \n",
              "min       37.920000      1.000000      57.000000      30.062500   \n",
              "25%      695.082500      3.000000      84.000000      32.250000   \n",
              "50%     1343.190000      6.000000     100.000000      33.375000   \n",
              "75%     2427.340000     16.000000     122.000000      34.125000   \n",
              "max     3879.580000     24.000000     200.000000      35.500000   \n",
              "\n",
              "       imu_hand_3d_acceleration_1  imu_hand_3d_acceleration_2  \\\n",
              "count                80422.000000                80422.000000   \n",
              "mean                    -4.789561                    3.432590   \n",
              "std                      5.994178                    6.245571   \n",
              "min                    -76.035400                  -82.550900   \n",
              "25%                     -8.900590                    1.152660   \n",
              "50%                     -5.259240                    3.552265   \n",
              "75%                     -0.719827                    6.431033   \n",
              "max                     25.740500                  130.466000   \n",
              "\n",
              "       imu_hand_3d_acceleration_3  imu_hand_3d_gyroscope_1  \\\n",
              "count                80422.000000             80422.000000   \n",
              "mean                     3.709535                -0.011700   \n",
              "std                      3.689842                 1.265779   \n",
              "min                    -31.747600               -14.739100   \n",
              "25%                      1.235200                -0.360765   \n",
              "50%                      3.440745                -0.006368   \n",
              "75%                      6.559480                 0.301080   \n",
              "max                     53.905200                15.918300   \n",
              "\n",
              "       imu_hand_3d_gyroscope_2  imu_hand_3d_gyroscope_3  ...  imu_ankle_temp  \\\n",
              "count             80422.000000             80422.000000  ...    80422.000000   \n",
              "mean                  0.039383                -0.010709  ...       33.779620   \n",
              "std                   0.828586                 1.516728  ...        1.068408   \n",
              "min                  -7.003590               -13.121500  ...       30.062500   \n",
              "25%                  -0.192548                -0.350784  ...       33.125000   \n",
              "50%                   0.006115                -0.006158  ...       34.062500   \n",
              "75%                   0.243517                 0.326305  ...       34.562500   \n",
              "max                  11.009500                11.519800  ...       35.437500   \n",
              "\n",
              "       imu_ankle_3d_acceleration_1  imu_ankle_3d_acceleration_2  \\\n",
              "count                 80422.000000                 80422.000000   \n",
              "mean                      9.202855                    -0.413834   \n",
              "std                       6.356752                     7.442316   \n",
              "min                     -76.722200                  -155.513000   \n",
              "25%                       8.494410                    -2.245932   \n",
              "50%                       9.520470                    -0.384658   \n",
              "75%                      10.032475                     1.546695   \n",
              "max                     155.655000                   154.960000   \n",
              "\n",
              "       imu_ankle_3d_acceleration_3  imu_ankle_3d_gyroscope_1  \\\n",
              "count                 80422.000000              80422.000000   \n",
              "mean                     -2.668470                  0.009734   \n",
              "std                       3.766177                  1.087515   \n",
              "min                    -158.830000                -11.058100   \n",
              "25%                      -3.854827                 -0.159436   \n",
              "50%                      -2.491405                  0.005441   \n",
              "75%                      -1.157690                  0.101723   \n",
              "max                      97.672100                 10.492300   \n",
              "\n",
              "       imu_ankle_3d_gyroscope_2  imu_ankle_3d_gyroscope_3  \\\n",
              "count              80422.000000              80422.000000   \n",
              "mean                  -0.027119                  0.006251   \n",
              "std                    0.617737                  1.923221   \n",
              "min                   -5.745580                -10.384400   \n",
              "25%                   -0.083665                 -0.325686   \n",
              "50%                   -0.003407                 -0.001544   \n",
              "75%                    0.102211                  0.069242   \n",
              "max                    6.410380                 14.288100   \n",
              "\n",
              "       imu_ankle_3d_magnetometer_1  imu_ankle_3d_magnetometer_2  \\\n",
              "count                 80422.000000                 80422.000000   \n",
              "mean                    -31.194759                     2.324023   \n",
              "std                      18.867051                    21.673428   \n",
              "min                    -172.236000                  -135.604000   \n",
              "25%                     -41.711150                   -10.908775   \n",
              "50%                     -33.187550                     2.107025   \n",
              "75%                     -16.742575                    18.527500   \n",
              "max                      71.449900                    90.478100   \n",
              "\n",
              "       imu_ankle_3d_magnetometer_3  \n",
              "count                 80422.000000  \n",
              "mean                     17.413432  \n",
              "std                      20.279242  \n",
              "min                    -100.864000  \n",
              "25%                       3.064567  \n",
              "50%                      19.147550  \n",
              "75%                      32.331325  \n",
              "max                     135.144000  \n",
              "\n",
              "[8 rows x 33 columns]"
            ],
            "text/html": [
              "\n",
              "  <div id=\"df-2d649ac7-322f-44db-bf69-2ae69bfd4f05\">\n",
              "    <div class=\"colab-df-container\">\n",
              "      <div>\n",
              "<style scoped>\n",
              "    .dataframe tbody tr th:only-of-type {\n",
              "        vertical-align: middle;\n",
              "    }\n",
              "\n",
              "    .dataframe tbody tr th {\n",
              "        vertical-align: top;\n",
              "    }\n",
              "\n",
              "    .dataframe thead th {\n",
              "        text-align: right;\n",
              "    }\n",
              "</style>\n",
              "<table border=\"1\" class=\"dataframe\">\n",
              "  <thead>\n",
              "    <tr style=\"text-align: right;\">\n",
              "      <th></th>\n",
              "      <th>timestamp</th>\n",
              "      <th>activityID</th>\n",
              "      <th>heartrate_bpm</th>\n",
              "      <th>imu_hand_temp</th>\n",
              "      <th>imu_hand_3d_acceleration_1</th>\n",
              "      <th>imu_hand_3d_acceleration_2</th>\n",
              "      <th>imu_hand_3d_acceleration_3</th>\n",
              "      <th>imu_hand_3d_gyroscope_1</th>\n",
              "      <th>imu_hand_3d_gyroscope_2</th>\n",
              "      <th>imu_hand_3d_gyroscope_3</th>\n",
              "      <th>...</th>\n",
              "      <th>imu_ankle_temp</th>\n",
              "      <th>imu_ankle_3d_acceleration_1</th>\n",
              "      <th>imu_ankle_3d_acceleration_2</th>\n",
              "      <th>imu_ankle_3d_acceleration_3</th>\n",
              "      <th>imu_ankle_3d_gyroscope_1</th>\n",
              "      <th>imu_ankle_3d_gyroscope_2</th>\n",
              "      <th>imu_ankle_3d_gyroscope_3</th>\n",
              "      <th>imu_ankle_3d_magnetometer_1</th>\n",
              "      <th>imu_ankle_3d_magnetometer_2</th>\n",
              "      <th>imu_ankle_3d_magnetometer_3</th>\n",
              "    </tr>\n",
              "  </thead>\n",
              "  <tbody>\n",
              "    <tr>\n",
              "      <th>count</th>\n",
              "      <td>80422.000000</td>\n",
              "      <td>80422.000000</td>\n",
              "      <td>80422.000000</td>\n",
              "      <td>80422.000000</td>\n",
              "      <td>80422.000000</td>\n",
              "      <td>80422.000000</td>\n",
              "      <td>80422.000000</td>\n",
              "      <td>80422.000000</td>\n",
              "      <td>80422.000000</td>\n",
              "      <td>80422.000000</td>\n",
              "      <td>...</td>\n",
              "      <td>80422.000000</td>\n",
              "      <td>80422.000000</td>\n",
              "      <td>80422.000000</td>\n",
              "      <td>80422.000000</td>\n",
              "      <td>80422.000000</td>\n",
              "      <td>80422.000000</td>\n",
              "      <td>80422.000000</td>\n",
              "      <td>80422.000000</td>\n",
              "      <td>80422.000000</td>\n",
              "      <td>80422.000000</td>\n",
              "    </tr>\n",
              "    <tr>\n",
              "      <th>mean</th>\n",
              "      <td>1560.920656</td>\n",
              "      <td>8.087265</td>\n",
              "      <td>104.787173</td>\n",
              "      <td>33.121595</td>\n",
              "      <td>-4.789561</td>\n",
              "      <td>3.432590</td>\n",
              "      <td>3.709535</td>\n",
              "      <td>-0.011700</td>\n",
              "      <td>0.039383</td>\n",
              "      <td>-0.010709</td>\n",
              "      <td>...</td>\n",
              "      <td>33.779620</td>\n",
              "      <td>9.202855</td>\n",
              "      <td>-0.413834</td>\n",
              "      <td>-2.668470</td>\n",
              "      <td>0.009734</td>\n",
              "      <td>-0.027119</td>\n",
              "      <td>0.006251</td>\n",
              "      <td>-31.194759</td>\n",
              "      <td>2.324023</td>\n",
              "      <td>17.413432</td>\n",
              "    </tr>\n",
              "    <tr>\n",
              "      <th>std</th>\n",
              "      <td>1017.224512</td>\n",
              "      <td>6.190019</td>\n",
              "      <td>26.166685</td>\n",
              "      <td>1.353601</td>\n",
              "      <td>5.994178</td>\n",
              "      <td>6.245571</td>\n",
              "      <td>3.689842</td>\n",
              "      <td>1.265779</td>\n",
              "      <td>0.828586</td>\n",
              "      <td>1.516728</td>\n",
              "      <td>...</td>\n",
              "      <td>1.068408</td>\n",
              "      <td>6.356752</td>\n",
              "      <td>7.442316</td>\n",
              "      <td>3.766177</td>\n",
              "      <td>1.087515</td>\n",
              "      <td>0.617737</td>\n",
              "      <td>1.923221</td>\n",
              "      <td>18.867051</td>\n",
              "      <td>21.673428</td>\n",
              "      <td>20.279242</td>\n",
              "    </tr>\n",
              "    <tr>\n",
              "      <th>min</th>\n",
              "      <td>37.920000</td>\n",
              "      <td>1.000000</td>\n",
              "      <td>57.000000</td>\n",
              "      <td>30.062500</td>\n",
              "      <td>-76.035400</td>\n",
              "      <td>-82.550900</td>\n",
              "      <td>-31.747600</td>\n",
              "      <td>-14.739100</td>\n",
              "      <td>-7.003590</td>\n",
              "      <td>-13.121500</td>\n",
              "      <td>...</td>\n",
              "      <td>30.062500</td>\n",
              "      <td>-76.722200</td>\n",
              "      <td>-155.513000</td>\n",
              "      <td>-158.830000</td>\n",
              "      <td>-11.058100</td>\n",
              "      <td>-5.745580</td>\n",
              "      <td>-10.384400</td>\n",
              "      <td>-172.236000</td>\n",
              "      <td>-135.604000</td>\n",
              "      <td>-100.864000</td>\n",
              "    </tr>\n",
              "    <tr>\n",
              "      <th>25%</th>\n",
              "      <td>695.082500</td>\n",
              "      <td>3.000000</td>\n",
              "      <td>84.000000</td>\n",
              "      <td>32.250000</td>\n",
              "      <td>-8.900590</td>\n",
              "      <td>1.152660</td>\n",
              "      <td>1.235200</td>\n",
              "      <td>-0.360765</td>\n",
              "      <td>-0.192548</td>\n",
              "      <td>-0.350784</td>\n",
              "      <td>...</td>\n",
              "      <td>33.125000</td>\n",
              "      <td>8.494410</td>\n",
              "      <td>-2.245932</td>\n",
              "      <td>-3.854827</td>\n",
              "      <td>-0.159436</td>\n",
              "      <td>-0.083665</td>\n",
              "      <td>-0.325686</td>\n",
              "      <td>-41.711150</td>\n",
              "      <td>-10.908775</td>\n",
              "      <td>3.064567</td>\n",
              "    </tr>\n",
              "    <tr>\n",
              "      <th>50%</th>\n",
              "      <td>1343.190000</td>\n",
              "      <td>6.000000</td>\n",
              "      <td>100.000000</td>\n",
              "      <td>33.375000</td>\n",
              "      <td>-5.259240</td>\n",
              "      <td>3.552265</td>\n",
              "      <td>3.440745</td>\n",
              "      <td>-0.006368</td>\n",
              "      <td>0.006115</td>\n",
              "      <td>-0.006158</td>\n",
              "      <td>...</td>\n",
              "      <td>34.062500</td>\n",
              "      <td>9.520470</td>\n",
              "      <td>-0.384658</td>\n",
              "      <td>-2.491405</td>\n",
              "      <td>0.005441</td>\n",
              "      <td>-0.003407</td>\n",
              "      <td>-0.001544</td>\n",
              "      <td>-33.187550</td>\n",
              "      <td>2.107025</td>\n",
              "      <td>19.147550</td>\n",
              "    </tr>\n",
              "    <tr>\n",
              "      <th>75%</th>\n",
              "      <td>2427.340000</td>\n",
              "      <td>16.000000</td>\n",
              "      <td>122.000000</td>\n",
              "      <td>34.125000</td>\n",
              "      <td>-0.719827</td>\n",
              "      <td>6.431033</td>\n",
              "      <td>6.559480</td>\n",
              "      <td>0.301080</td>\n",
              "      <td>0.243517</td>\n",
              "      <td>0.326305</td>\n",
              "      <td>...</td>\n",
              "      <td>34.562500</td>\n",
              "      <td>10.032475</td>\n",
              "      <td>1.546695</td>\n",
              "      <td>-1.157690</td>\n",
              "      <td>0.101723</td>\n",
              "      <td>0.102211</td>\n",
              "      <td>0.069242</td>\n",
              "      <td>-16.742575</td>\n",
              "      <td>18.527500</td>\n",
              "      <td>32.331325</td>\n",
              "    </tr>\n",
              "    <tr>\n",
              "      <th>max</th>\n",
              "      <td>3879.580000</td>\n",
              "      <td>24.000000</td>\n",
              "      <td>200.000000</td>\n",
              "      <td>35.500000</td>\n",
              "      <td>25.740500</td>\n",
              "      <td>130.466000</td>\n",
              "      <td>53.905200</td>\n",
              "      <td>15.918300</td>\n",
              "      <td>11.009500</td>\n",
              "      <td>11.519800</td>\n",
              "      <td>...</td>\n",
              "      <td>35.437500</td>\n",
              "      <td>155.655000</td>\n",
              "      <td>154.960000</td>\n",
              "      <td>97.672100</td>\n",
              "      <td>10.492300</td>\n",
              "      <td>6.410380</td>\n",
              "      <td>14.288100</td>\n",
              "      <td>71.449900</td>\n",
              "      <td>90.478100</td>\n",
              "      <td>135.144000</td>\n",
              "    </tr>\n",
              "  </tbody>\n",
              "</table>\n",
              "<p>8 rows × 33 columns</p>\n",
              "</div>\n",
              "      <button class=\"colab-df-convert\" onclick=\"convertToInteractive('df-2d649ac7-322f-44db-bf69-2ae69bfd4f05')\"\n",
              "              title=\"Convert this dataframe to an interactive table.\"\n",
              "              style=\"display:none;\">\n",
              "        \n",
              "  <svg xmlns=\"http://www.w3.org/2000/svg\" height=\"24px\"viewBox=\"0 0 24 24\"\n",
              "       width=\"24px\">\n",
              "    <path d=\"M0 0h24v24H0V0z\" fill=\"none\"/>\n",
              "    <path d=\"M18.56 5.44l.94 2.06.94-2.06 2.06-.94-2.06-.94-.94-2.06-.94 2.06-2.06.94zm-11 1L8.5 8.5l.94-2.06 2.06-.94-2.06-.94L8.5 2.5l-.94 2.06-2.06.94zm10 10l.94 2.06.94-2.06 2.06-.94-2.06-.94-.94-2.06-.94 2.06-2.06.94z\"/><path d=\"M17.41 7.96l-1.37-1.37c-.4-.4-.92-.59-1.43-.59-.52 0-1.04.2-1.43.59L10.3 9.45l-7.72 7.72c-.78.78-.78 2.05 0 2.83L4 21.41c.39.39.9.59 1.41.59.51 0 1.02-.2 1.41-.59l7.78-7.78 2.81-2.81c.8-.78.8-2.07 0-2.86zM5.41 20L4 18.59l7.72-7.72 1.47 1.35L5.41 20z\"/>\n",
              "  </svg>\n",
              "      </button>\n",
              "      \n",
              "  <style>\n",
              "    .colab-df-container {\n",
              "      display:flex;\n",
              "      flex-wrap:wrap;\n",
              "      gap: 12px;\n",
              "    }\n",
              "\n",
              "    .colab-df-convert {\n",
              "      background-color: #E8F0FE;\n",
              "      border: none;\n",
              "      border-radius: 50%;\n",
              "      cursor: pointer;\n",
              "      display: none;\n",
              "      fill: #1967D2;\n",
              "      height: 32px;\n",
              "      padding: 0 0 0 0;\n",
              "      width: 32px;\n",
              "    }\n",
              "\n",
              "    .colab-df-convert:hover {\n",
              "      background-color: #E2EBFA;\n",
              "      box-shadow: 0px 1px 2px rgba(60, 64, 67, 0.3), 0px 1px 3px 1px rgba(60, 64, 67, 0.15);\n",
              "      fill: #174EA6;\n",
              "    }\n",
              "\n",
              "    [theme=dark] .colab-df-convert {\n",
              "      background-color: #3B4455;\n",
              "      fill: #D2E3FC;\n",
              "    }\n",
              "\n",
              "    [theme=dark] .colab-df-convert:hover {\n",
              "      background-color: #434B5C;\n",
              "      box-shadow: 0px 1px 3px 1px rgba(0, 0, 0, 0.15);\n",
              "      filter: drop-shadow(0px 1px 2px rgba(0, 0, 0, 0.3));\n",
              "      fill: #FFFFFF;\n",
              "    }\n",
              "  </style>\n",
              "\n",
              "      <script>\n",
              "        const buttonEl =\n",
              "          document.querySelector('#df-2d649ac7-322f-44db-bf69-2ae69bfd4f05 button.colab-df-convert');\n",
              "        buttonEl.style.display =\n",
              "          google.colab.kernel.accessAllowed ? 'block' : 'none';\n",
              "\n",
              "        async function convertToInteractive(key) {\n",
              "          const element = document.querySelector('#df-2d649ac7-322f-44db-bf69-2ae69bfd4f05');\n",
              "          const dataTable =\n",
              "            await google.colab.kernel.invokeFunction('convertToInteractive',\n",
              "                                                     [key], {});\n",
              "          if (!dataTable) return;\n",
              "\n",
              "          const docLinkHtml = 'Like what you see? Visit the ' +\n",
              "            '<a target=\"_blank\" href=https://colab.research.google.com/notebooks/data_table.ipynb>data table notebook</a>'\n",
              "            + ' to learn more about interactive tables.';\n",
              "          element.innerHTML = '';\n",
              "          dataTable['output_type'] = 'display_data';\n",
              "          await google.colab.output.renderOutput(dataTable, element);\n",
              "          const docLink = document.createElement('div');\n",
              "          docLink.innerHTML = docLinkHtml;\n",
              "          element.appendChild(docLink);\n",
              "        }\n",
              "      </script>\n",
              "    </div>\n",
              "  </div>\n",
              "  "
            ]
          },
          "metadata": {},
          "execution_count": 261
        }
      ]
    },
    {
      "cell_type": "code",
      "source": [
        "dev_data.mean()"
      ],
      "metadata": {
        "colab": {
          "base_uri": "https://localhost:8080/"
        },
        "id": "5b9fLzZ4qKlF",
        "outputId": "580e412e-c62c-4b84-c1e9-d88c0ae048f7"
      },
      "execution_count": null,
      "outputs": [
        {
          "output_type": "stream",
          "name": "stderr",
          "text": [
            "<ipython-input-262-f56386cf7f72>:1: FutureWarning: Dropping of nuisance columns in DataFrame reductions (with 'numeric_only=None') is deprecated; in a future version this will raise TypeError.  Select only valid columns before calling the reduction.\n",
            "  dev_data.mean()\n"
          ]
        },
        {
          "output_type": "execute_result",
          "data": {
            "text/plain": [
              "timestamp                      1560.920656\n",
              "activityID                        8.087265\n",
              "heartrate_bpm                   104.787173\n",
              "imu_hand_temp                    33.121595\n",
              "imu_hand_3d_acceleration_1       -4.789561\n",
              "imu_hand_3d_acceleration_2        3.432590\n",
              "imu_hand_3d_acceleration_3        3.709535\n",
              "imu_hand_3d_gyroscope_1          -0.011700\n",
              "imu_hand_3d_gyroscope_2           0.039383\n",
              "imu_hand_3d_gyroscope_3          -0.010709\n",
              "imu_hand_3d_magnetometer_1       20.297238\n",
              "imu_hand_3d_magnetometer_2      -13.604624\n",
              "imu_hand_3d_magnetometer_3      -24.690420\n",
              "imu_chest_temp                   36.374465\n",
              "imu_chest_3d_acceleration_1       0.349681\n",
              "imu_chest_3d_acceleration_2       8.218116\n",
              "imu_chest_3d_acceleration_3      -1.094945\n",
              "imu_chest_3d_gyroscope_1          0.007372\n",
              "imu_chest_3d_gyroscope_2          0.010040\n",
              "imu_chest_3d_gyroscope_3         -0.022916\n",
              "imu_chest_3d_magnetometer_1       4.735716\n",
              "imu_chest_3d_magnetometer_2     -30.740733\n",
              "imu_chest_3d_magnetometer_3       2.950431\n",
              "imu_ankle_temp                   33.779620\n",
              "imu_ankle_3d_acceleration_1       9.202855\n",
              "imu_ankle_3d_acceleration_2      -0.413834\n",
              "imu_ankle_3d_acceleration_3      -2.668470\n",
              "imu_ankle_3d_gyroscope_1          0.009734\n",
              "imu_ankle_3d_gyroscope_2         -0.027119\n",
              "imu_ankle_3d_gyroscope_3          0.006251\n",
              "imu_ankle_3d_magnetometer_1     -31.194759\n",
              "imu_ankle_3d_magnetometer_2       2.324023\n",
              "imu_ankle_3d_magnetometer_3      17.413432\n",
              "dtype: float64"
            ]
          },
          "metadata": {},
          "execution_count": 262
        }
      ]
    },
    {
      "cell_type": "code",
      "source": [
        "dev_data.groupby(['activityID']).mean()"
      ],
      "metadata": {
        "colab": {
          "base_uri": "https://localhost:8080/",
          "height": 550
        },
        "id": "rJtUed5qqKjV",
        "outputId": "203913b5-c469-4b3a-978f-de2da1eb749a"
      },
      "execution_count": null,
      "outputs": [
        {
          "output_type": "execute_result",
          "data": {
            "text/plain": [
              "              timestamp  heartrate_bpm  imu_hand_temp  \\\n",
              "activityID                                              \n",
              "1            206.093164      75.492932      32.717172   \n",
              "2            505.893673      80.019547      33.254321   \n",
              "3            732.766014      88.593616      33.628243   \n",
              "4           2436.254700     112.307584      32.466474   \n",
              "5           3387.583275     157.237552      32.042639   \n",
              "6           2986.797019     124.623826      32.425745   \n",
              "7           2925.901139     123.630324      31.932478   \n",
              "12          1807.198968     129.527664      33.538642   \n",
              "13          1910.491704     129.332772      33.323872   \n",
              "16          1360.058318     104.283384      34.174063   \n",
              "17          1025.941360      89.976110      34.019084   \n",
              "24          3680.319068     166.751592      31.386694   \n",
              "\n",
              "            imu_hand_3d_acceleration_1  imu_hand_3d_acceleration_2  \\\n",
              "activityID                                                           \n",
              "1                             3.697037                    2.110493   \n",
              "2                            -1.381660                    4.344279   \n",
              "3                            -7.057000                    3.238089   \n",
              "4                            -9.993284                    2.513337   \n",
              "5                            -6.829111                    4.283493   \n",
              "6                            -4.324505                    2.964461   \n",
              "7                            -4.207207                    4.911881   \n",
              "12                           -8.750346                    3.635689   \n",
              "13                           -6.291102                    2.870901   \n",
              "16                           -7.149898                    3.608274   \n",
              "17                           -3.378260                    3.738882   \n",
              "24                           -5.760392                    4.203644   \n",
              "\n",
              "            imu_hand_3d_acceleration_3  imu_hand_3d_gyroscope_1  \\\n",
              "activityID                                                        \n",
              "1                             6.408502                -0.002735   \n",
              "2                             5.166596                -0.004227   \n",
              "3                             2.654225                -0.003937   \n",
              "4                             1.889917                -0.056105   \n",
              "5                             1.564039                 0.020032   \n",
              "6                             7.534111                -0.050044   \n",
              "7                             2.478071                 0.010893   \n",
              "12                            1.572886                -0.353000   \n",
              "13                            3.654641                 0.253172   \n",
              "16                            1.902250                 0.007014   \n",
              "17                            5.462684                 0.030242   \n",
              "24                            0.681887                 0.085807   \n",
              "\n",
              "            imu_hand_3d_gyroscope_2  imu_hand_3d_gyroscope_3  \\\n",
              "activityID                                                     \n",
              "1                          0.003192                -0.004887   \n",
              "2                          0.010189                -0.007271   \n",
              "3                         -0.002643                -0.000776   \n",
              "4                          0.026374                -0.031327   \n",
              "5                          0.331833                -0.088896   \n",
              "6                         -0.011781                 0.104217   \n",
              "7                          0.047617                 0.000773   \n",
              "12                         0.174308                 0.125338   \n",
              "13                        -0.088899                -0.191650   \n",
              "16                         0.023337                -0.011177   \n",
              "17                         0.010648                -0.015130   \n",
              "24                         0.598618                -0.120737   \n",
              "\n",
              "            imu_hand_3d_magnetometer_1  ...  imu_ankle_temp  \\\n",
              "activityID                              ...                   \n",
              "1                            -0.536273  ...       32.968392   \n",
              "2                             3.518340  ...       33.632412   \n",
              "3                            27.498791  ...       33.895604   \n",
              "4                            38.175625  ...       33.829062   \n",
              "5                            19.499648  ...       33.091330   \n",
              "6                            29.290249  ...       33.059364   \n",
              "7                            18.273249  ...       33.523522   \n",
              "12                           38.085902  ...       34.170349   \n",
              "13                           32.117047  ...       34.182360   \n",
              "16                           30.238976  ...       34.458051   \n",
              "17                            3.688763  ...       34.280047   \n",
              "24                           30.891541  ...       33.017168   \n",
              "\n",
              "            imu_ankle_3d_acceleration_1  imu_ankle_3d_acceleration_2  \\\n",
              "activityID                                                             \n",
              "1                              0.527100                    -6.383670   \n",
              "2                              8.825887                    -0.307635   \n",
              "3                              9.391311                    -0.798491   \n",
              "4                             11.922597                     0.575451   \n",
              "5                             13.212700                     2.649128   \n",
              "6                              9.308399                     1.284499   \n",
              "7                             12.222987                     0.413188   \n",
              "12                             9.730900                     1.441130   \n",
              "13                            10.840487                     0.923594   \n",
              "16                             9.570591                     0.368118   \n",
              "17                             9.592130                    -0.503141   \n",
              "24                             9.738661                     1.246272   \n",
              "\n",
              "            imu_ankle_3d_acceleration_3  imu_ankle_3d_gyroscope_1  \\\n",
              "activityID                                                          \n",
              "1                             -3.709096                  0.011025   \n",
              "2                             -2.535469                  0.006696   \n",
              "3                             -2.071690                  0.004143   \n",
              "4                             -3.154908                 -0.002542   \n",
              "5                             -3.867405                  0.074486   \n",
              "6                             -2.055274                  0.117826   \n",
              "7                             -3.342917                 -0.002545   \n",
              "12                            -3.091146                  0.341287   \n",
              "13                            -2.532973                 -0.388168   \n",
              "16                            -1.741228                 -0.006022   \n",
              "17                            -1.934583                  0.003825   \n",
              "24                            -2.939007                 -0.063913   \n",
              "\n",
              "            imu_ankle_3d_gyroscope_2  imu_ankle_3d_gyroscope_3  \\\n",
              "activityID                                                       \n",
              "1                          -0.006532                  0.005940   \n",
              "2                          -0.004779                  0.005507   \n",
              "3                          -0.003537                  0.003385   \n",
              "4                          -0.102038                 -0.040077   \n",
              "5                           0.045981                  0.189067   \n",
              "6                           0.035533                 -0.021318   \n",
              "7                          -0.117605                 -0.003587   \n",
              "12                          0.125327                 -0.040236   \n",
              "13                         -0.248207                  0.089198   \n",
              "16                          0.006262                  0.004178   \n",
              "17                         -0.004539                  0.005718   \n",
              "24                          0.006719                  0.033457   \n",
              "\n",
              "            imu_ankle_3d_magnetometer_1  imu_ankle_3d_magnetometer_2  \\\n",
              "activityID                                                             \n",
              "1                            -17.789302                    20.812979   \n",
              "2                            -22.708202                     2.497076   \n",
              "3                            -22.876380                    -0.645366   \n",
              "4                            -37.071870                    -0.917309   \n",
              "5                            -37.538403                    -6.685245   \n",
              "6                            -41.148536                    -5.674696   \n",
              "7                            -37.633592                    -0.245210   \n",
              "12                           -35.781580                    -4.661422   \n",
              "13                           -36.921645                    -4.216005   \n",
              "16                           -24.492310                     4.460100   \n",
              "17                           -38.760381                     5.463631   \n",
              "24                           -43.809177                    -7.087247   \n",
              "\n",
              "            imu_ankle_3d_magnetometer_3  \n",
              "activityID                               \n",
              "1                              0.007057  \n",
              "2                             21.066596  \n",
              "3                             24.431041  \n",
              "4                             15.725746  \n",
              "5                             13.363693  \n",
              "6                             14.036923  \n",
              "7                             14.087650  \n",
              "12                            13.544409  \n",
              "13                            20.308575  \n",
              "16                            11.296682  \n",
              "17                            34.087499  \n",
              "24                            21.458939  \n",
              "\n",
              "[12 rows x 32 columns]"
            ],
            "text/html": [
              "\n",
              "  <div id=\"df-e322cbfe-facc-44cd-acd1-6551d85fec49\">\n",
              "    <div class=\"colab-df-container\">\n",
              "      <div>\n",
              "<style scoped>\n",
              "    .dataframe tbody tr th:only-of-type {\n",
              "        vertical-align: middle;\n",
              "    }\n",
              "\n",
              "    .dataframe tbody tr th {\n",
              "        vertical-align: top;\n",
              "    }\n",
              "\n",
              "    .dataframe thead th {\n",
              "        text-align: right;\n",
              "    }\n",
              "</style>\n",
              "<table border=\"1\" class=\"dataframe\">\n",
              "  <thead>\n",
              "    <tr style=\"text-align: right;\">\n",
              "      <th></th>\n",
              "      <th>timestamp</th>\n",
              "      <th>heartrate_bpm</th>\n",
              "      <th>imu_hand_temp</th>\n",
              "      <th>imu_hand_3d_acceleration_1</th>\n",
              "      <th>imu_hand_3d_acceleration_2</th>\n",
              "      <th>imu_hand_3d_acceleration_3</th>\n",
              "      <th>imu_hand_3d_gyroscope_1</th>\n",
              "      <th>imu_hand_3d_gyroscope_2</th>\n",
              "      <th>imu_hand_3d_gyroscope_3</th>\n",
              "      <th>imu_hand_3d_magnetometer_1</th>\n",
              "      <th>...</th>\n",
              "      <th>imu_ankle_temp</th>\n",
              "      <th>imu_ankle_3d_acceleration_1</th>\n",
              "      <th>imu_ankle_3d_acceleration_2</th>\n",
              "      <th>imu_ankle_3d_acceleration_3</th>\n",
              "      <th>imu_ankle_3d_gyroscope_1</th>\n",
              "      <th>imu_ankle_3d_gyroscope_2</th>\n",
              "      <th>imu_ankle_3d_gyroscope_3</th>\n",
              "      <th>imu_ankle_3d_magnetometer_1</th>\n",
              "      <th>imu_ankle_3d_magnetometer_2</th>\n",
              "      <th>imu_ankle_3d_magnetometer_3</th>\n",
              "    </tr>\n",
              "    <tr>\n",
              "      <th>activityID</th>\n",
              "      <th></th>\n",
              "      <th></th>\n",
              "      <th></th>\n",
              "      <th></th>\n",
              "      <th></th>\n",
              "      <th></th>\n",
              "      <th></th>\n",
              "      <th></th>\n",
              "      <th></th>\n",
              "      <th></th>\n",
              "      <th></th>\n",
              "      <th></th>\n",
              "      <th></th>\n",
              "      <th></th>\n",
              "      <th></th>\n",
              "      <th></th>\n",
              "      <th></th>\n",
              "      <th></th>\n",
              "      <th></th>\n",
              "      <th></th>\n",
              "      <th></th>\n",
              "    </tr>\n",
              "  </thead>\n",
              "  <tbody>\n",
              "    <tr>\n",
              "      <th>1</th>\n",
              "      <td>206.093164</td>\n",
              "      <td>75.492932</td>\n",
              "      <td>32.717172</td>\n",
              "      <td>3.697037</td>\n",
              "      <td>2.110493</td>\n",
              "      <td>6.408502</td>\n",
              "      <td>-0.002735</td>\n",
              "      <td>0.003192</td>\n",
              "      <td>-0.004887</td>\n",
              "      <td>-0.536273</td>\n",
              "      <td>...</td>\n",
              "      <td>32.968392</td>\n",
              "      <td>0.527100</td>\n",
              "      <td>-6.383670</td>\n",
              "      <td>-3.709096</td>\n",
              "      <td>0.011025</td>\n",
              "      <td>-0.006532</td>\n",
              "      <td>0.005940</td>\n",
              "      <td>-17.789302</td>\n",
              "      <td>20.812979</td>\n",
              "      <td>0.007057</td>\n",
              "    </tr>\n",
              "    <tr>\n",
              "      <th>2</th>\n",
              "      <td>505.893673</td>\n",
              "      <td>80.019547</td>\n",
              "      <td>33.254321</td>\n",
              "      <td>-1.381660</td>\n",
              "      <td>4.344279</td>\n",
              "      <td>5.166596</td>\n",
              "      <td>-0.004227</td>\n",
              "      <td>0.010189</td>\n",
              "      <td>-0.007271</td>\n",
              "      <td>3.518340</td>\n",
              "      <td>...</td>\n",
              "      <td>33.632412</td>\n",
              "      <td>8.825887</td>\n",
              "      <td>-0.307635</td>\n",
              "      <td>-2.535469</td>\n",
              "      <td>0.006696</td>\n",
              "      <td>-0.004779</td>\n",
              "      <td>0.005507</td>\n",
              "      <td>-22.708202</td>\n",
              "      <td>2.497076</td>\n",
              "      <td>21.066596</td>\n",
              "    </tr>\n",
              "    <tr>\n",
              "      <th>3</th>\n",
              "      <td>732.766014</td>\n",
              "      <td>88.593616</td>\n",
              "      <td>33.628243</td>\n",
              "      <td>-7.057000</td>\n",
              "      <td>3.238089</td>\n",
              "      <td>2.654225</td>\n",
              "      <td>-0.003937</td>\n",
              "      <td>-0.002643</td>\n",
              "      <td>-0.000776</td>\n",
              "      <td>27.498791</td>\n",
              "      <td>...</td>\n",
              "      <td>33.895604</td>\n",
              "      <td>9.391311</td>\n",
              "      <td>-0.798491</td>\n",
              "      <td>-2.071690</td>\n",
              "      <td>0.004143</td>\n",
              "      <td>-0.003537</td>\n",
              "      <td>0.003385</td>\n",
              "      <td>-22.876380</td>\n",
              "      <td>-0.645366</td>\n",
              "      <td>24.431041</td>\n",
              "    </tr>\n",
              "    <tr>\n",
              "      <th>4</th>\n",
              "      <td>2436.254700</td>\n",
              "      <td>112.307584</td>\n",
              "      <td>32.466474</td>\n",
              "      <td>-9.993284</td>\n",
              "      <td>2.513337</td>\n",
              "      <td>1.889917</td>\n",
              "      <td>-0.056105</td>\n",
              "      <td>0.026374</td>\n",
              "      <td>-0.031327</td>\n",
              "      <td>38.175625</td>\n",
              "      <td>...</td>\n",
              "      <td>33.829062</td>\n",
              "      <td>11.922597</td>\n",
              "      <td>0.575451</td>\n",
              "      <td>-3.154908</td>\n",
              "      <td>-0.002542</td>\n",
              "      <td>-0.102038</td>\n",
              "      <td>-0.040077</td>\n",
              "      <td>-37.071870</td>\n",
              "      <td>-0.917309</td>\n",
              "      <td>15.725746</td>\n",
              "    </tr>\n",
              "    <tr>\n",
              "      <th>5</th>\n",
              "      <td>3387.583275</td>\n",
              "      <td>157.237552</td>\n",
              "      <td>32.042639</td>\n",
              "      <td>-6.829111</td>\n",
              "      <td>4.283493</td>\n",
              "      <td>1.564039</td>\n",
              "      <td>0.020032</td>\n",
              "      <td>0.331833</td>\n",
              "      <td>-0.088896</td>\n",
              "      <td>19.499648</td>\n",
              "      <td>...</td>\n",
              "      <td>33.091330</td>\n",
              "      <td>13.212700</td>\n",
              "      <td>2.649128</td>\n",
              "      <td>-3.867405</td>\n",
              "      <td>0.074486</td>\n",
              "      <td>0.045981</td>\n",
              "      <td>0.189067</td>\n",
              "      <td>-37.538403</td>\n",
              "      <td>-6.685245</td>\n",
              "      <td>13.363693</td>\n",
              "    </tr>\n",
              "    <tr>\n",
              "      <th>6</th>\n",
              "      <td>2986.797019</td>\n",
              "      <td>124.623826</td>\n",
              "      <td>32.425745</td>\n",
              "      <td>-4.324505</td>\n",
              "      <td>2.964461</td>\n",
              "      <td>7.534111</td>\n",
              "      <td>-0.050044</td>\n",
              "      <td>-0.011781</td>\n",
              "      <td>0.104217</td>\n",
              "      <td>29.290249</td>\n",
              "      <td>...</td>\n",
              "      <td>33.059364</td>\n",
              "      <td>9.308399</td>\n",
              "      <td>1.284499</td>\n",
              "      <td>-2.055274</td>\n",
              "      <td>0.117826</td>\n",
              "      <td>0.035533</td>\n",
              "      <td>-0.021318</td>\n",
              "      <td>-41.148536</td>\n",
              "      <td>-5.674696</td>\n",
              "      <td>14.036923</td>\n",
              "    </tr>\n",
              "    <tr>\n",
              "      <th>7</th>\n",
              "      <td>2925.901139</td>\n",
              "      <td>123.630324</td>\n",
              "      <td>31.932478</td>\n",
              "      <td>-4.207207</td>\n",
              "      <td>4.911881</td>\n",
              "      <td>2.478071</td>\n",
              "      <td>0.010893</td>\n",
              "      <td>0.047617</td>\n",
              "      <td>0.000773</td>\n",
              "      <td>18.273249</td>\n",
              "      <td>...</td>\n",
              "      <td>33.523522</td>\n",
              "      <td>12.222987</td>\n",
              "      <td>0.413188</td>\n",
              "      <td>-3.342917</td>\n",
              "      <td>-0.002545</td>\n",
              "      <td>-0.117605</td>\n",
              "      <td>-0.003587</td>\n",
              "      <td>-37.633592</td>\n",
              "      <td>-0.245210</td>\n",
              "      <td>14.087650</td>\n",
              "    </tr>\n",
              "    <tr>\n",
              "      <th>12</th>\n",
              "      <td>1807.198968</td>\n",
              "      <td>129.527664</td>\n",
              "      <td>33.538642</td>\n",
              "      <td>-8.750346</td>\n",
              "      <td>3.635689</td>\n",
              "      <td>1.572886</td>\n",
              "      <td>-0.353000</td>\n",
              "      <td>0.174308</td>\n",
              "      <td>0.125338</td>\n",
              "      <td>38.085902</td>\n",
              "      <td>...</td>\n",
              "      <td>34.170349</td>\n",
              "      <td>9.730900</td>\n",
              "      <td>1.441130</td>\n",
              "      <td>-3.091146</td>\n",
              "      <td>0.341287</td>\n",
              "      <td>0.125327</td>\n",
              "      <td>-0.040236</td>\n",
              "      <td>-35.781580</td>\n",
              "      <td>-4.661422</td>\n",
              "      <td>13.544409</td>\n",
              "    </tr>\n",
              "    <tr>\n",
              "      <th>13</th>\n",
              "      <td>1910.491704</td>\n",
              "      <td>129.332772</td>\n",
              "      <td>33.323872</td>\n",
              "      <td>-6.291102</td>\n",
              "      <td>2.870901</td>\n",
              "      <td>3.654641</td>\n",
              "      <td>0.253172</td>\n",
              "      <td>-0.088899</td>\n",
              "      <td>-0.191650</td>\n",
              "      <td>32.117047</td>\n",
              "      <td>...</td>\n",
              "      <td>34.182360</td>\n",
              "      <td>10.840487</td>\n",
              "      <td>0.923594</td>\n",
              "      <td>-2.532973</td>\n",
              "      <td>-0.388168</td>\n",
              "      <td>-0.248207</td>\n",
              "      <td>0.089198</td>\n",
              "      <td>-36.921645</td>\n",
              "      <td>-4.216005</td>\n",
              "      <td>20.308575</td>\n",
              "    </tr>\n",
              "    <tr>\n",
              "      <th>16</th>\n",
              "      <td>1360.058318</td>\n",
              "      <td>104.283384</td>\n",
              "      <td>34.174063</td>\n",
              "      <td>-7.149898</td>\n",
              "      <td>3.608274</td>\n",
              "      <td>1.902250</td>\n",
              "      <td>0.007014</td>\n",
              "      <td>0.023337</td>\n",
              "      <td>-0.011177</td>\n",
              "      <td>30.238976</td>\n",
              "      <td>...</td>\n",
              "      <td>34.458051</td>\n",
              "      <td>9.570591</td>\n",
              "      <td>0.368118</td>\n",
              "      <td>-1.741228</td>\n",
              "      <td>-0.006022</td>\n",
              "      <td>0.006262</td>\n",
              "      <td>0.004178</td>\n",
              "      <td>-24.492310</td>\n",
              "      <td>4.460100</td>\n",
              "      <td>11.296682</td>\n",
              "    </tr>\n",
              "    <tr>\n",
              "      <th>17</th>\n",
              "      <td>1025.941360</td>\n",
              "      <td>89.976110</td>\n",
              "      <td>34.019084</td>\n",
              "      <td>-3.378260</td>\n",
              "      <td>3.738882</td>\n",
              "      <td>5.462684</td>\n",
              "      <td>0.030242</td>\n",
              "      <td>0.010648</td>\n",
              "      <td>-0.015130</td>\n",
              "      <td>3.688763</td>\n",
              "      <td>...</td>\n",
              "      <td>34.280047</td>\n",
              "      <td>9.592130</td>\n",
              "      <td>-0.503141</td>\n",
              "      <td>-1.934583</td>\n",
              "      <td>0.003825</td>\n",
              "      <td>-0.004539</td>\n",
              "      <td>0.005718</td>\n",
              "      <td>-38.760381</td>\n",
              "      <td>5.463631</td>\n",
              "      <td>34.087499</td>\n",
              "    </tr>\n",
              "    <tr>\n",
              "      <th>24</th>\n",
              "      <td>3680.319068</td>\n",
              "      <td>166.751592</td>\n",
              "      <td>31.386694</td>\n",
              "      <td>-5.760392</td>\n",
              "      <td>4.203644</td>\n",
              "      <td>0.681887</td>\n",
              "      <td>0.085807</td>\n",
              "      <td>0.598618</td>\n",
              "      <td>-0.120737</td>\n",
              "      <td>30.891541</td>\n",
              "      <td>...</td>\n",
              "      <td>33.017168</td>\n",
              "      <td>9.738661</td>\n",
              "      <td>1.246272</td>\n",
              "      <td>-2.939007</td>\n",
              "      <td>-0.063913</td>\n",
              "      <td>0.006719</td>\n",
              "      <td>0.033457</td>\n",
              "      <td>-43.809177</td>\n",
              "      <td>-7.087247</td>\n",
              "      <td>21.458939</td>\n",
              "    </tr>\n",
              "  </tbody>\n",
              "</table>\n",
              "<p>12 rows × 32 columns</p>\n",
              "</div>\n",
              "      <button class=\"colab-df-convert\" onclick=\"convertToInteractive('df-e322cbfe-facc-44cd-acd1-6551d85fec49')\"\n",
              "              title=\"Convert this dataframe to an interactive table.\"\n",
              "              style=\"display:none;\">\n",
              "        \n",
              "  <svg xmlns=\"http://www.w3.org/2000/svg\" height=\"24px\"viewBox=\"0 0 24 24\"\n",
              "       width=\"24px\">\n",
              "    <path d=\"M0 0h24v24H0V0z\" fill=\"none\"/>\n",
              "    <path d=\"M18.56 5.44l.94 2.06.94-2.06 2.06-.94-2.06-.94-.94-2.06-.94 2.06-2.06.94zm-11 1L8.5 8.5l.94-2.06 2.06-.94-2.06-.94L8.5 2.5l-.94 2.06-2.06.94zm10 10l.94 2.06.94-2.06 2.06-.94-2.06-.94-.94-2.06-.94 2.06-2.06.94z\"/><path d=\"M17.41 7.96l-1.37-1.37c-.4-.4-.92-.59-1.43-.59-.52 0-1.04.2-1.43.59L10.3 9.45l-7.72 7.72c-.78.78-.78 2.05 0 2.83L4 21.41c.39.39.9.59 1.41.59.51 0 1.02-.2 1.41-.59l7.78-7.78 2.81-2.81c.8-.78.8-2.07 0-2.86zM5.41 20L4 18.59l7.72-7.72 1.47 1.35L5.41 20z\"/>\n",
              "  </svg>\n",
              "      </button>\n",
              "      \n",
              "  <style>\n",
              "    .colab-df-container {\n",
              "      display:flex;\n",
              "      flex-wrap:wrap;\n",
              "      gap: 12px;\n",
              "    }\n",
              "\n",
              "    .colab-df-convert {\n",
              "      background-color: #E8F0FE;\n",
              "      border: none;\n",
              "      border-radius: 50%;\n",
              "      cursor: pointer;\n",
              "      display: none;\n",
              "      fill: #1967D2;\n",
              "      height: 32px;\n",
              "      padding: 0 0 0 0;\n",
              "      width: 32px;\n",
              "    }\n",
              "\n",
              "    .colab-df-convert:hover {\n",
              "      background-color: #E2EBFA;\n",
              "      box-shadow: 0px 1px 2px rgba(60, 64, 67, 0.3), 0px 1px 3px 1px rgba(60, 64, 67, 0.15);\n",
              "      fill: #174EA6;\n",
              "    }\n",
              "\n",
              "    [theme=dark] .colab-df-convert {\n",
              "      background-color: #3B4455;\n",
              "      fill: #D2E3FC;\n",
              "    }\n",
              "\n",
              "    [theme=dark] .colab-df-convert:hover {\n",
              "      background-color: #434B5C;\n",
              "      box-shadow: 0px 1px 3px 1px rgba(0, 0, 0, 0.15);\n",
              "      filter: drop-shadow(0px 1px 2px rgba(0, 0, 0, 0.3));\n",
              "      fill: #FFFFFF;\n",
              "    }\n",
              "  </style>\n",
              "\n",
              "      <script>\n",
              "        const buttonEl =\n",
              "          document.querySelector('#df-e322cbfe-facc-44cd-acd1-6551d85fec49 button.colab-df-convert');\n",
              "        buttonEl.style.display =\n",
              "          google.colab.kernel.accessAllowed ? 'block' : 'none';\n",
              "\n",
              "        async function convertToInteractive(key) {\n",
              "          const element = document.querySelector('#df-e322cbfe-facc-44cd-acd1-6551d85fec49');\n",
              "          const dataTable =\n",
              "            await google.colab.kernel.invokeFunction('convertToInteractive',\n",
              "                                                     [key], {});\n",
              "          if (!dataTable) return;\n",
              "\n",
              "          const docLinkHtml = 'Like what you see? Visit the ' +\n",
              "            '<a target=\"_blank\" href=https://colab.research.google.com/notebooks/data_table.ipynb>data table notebook</a>'\n",
              "            + ' to learn more about interactive tables.';\n",
              "          element.innerHTML = '';\n",
              "          dataTable['output_type'] = 'display_data';\n",
              "          await google.colab.output.renderOutput(dataTable, element);\n",
              "          const docLink = document.createElement('div');\n",
              "          docLink.innerHTML = docLinkHtml;\n",
              "          element.appendChild(docLink);\n",
              "        }\n",
              "      </script>\n",
              "    </div>\n",
              "  </div>\n",
              "  "
            ]
          },
          "metadata": {},
          "execution_count": 263
        }
      ]
    },
    {
      "cell_type": "markdown",
      "source": [
        "**Findings**\n",
        "\n",
        "\n",
        "From the data exploration done above, the following were noted.\n",
        "\n",
        "\n",
        "\n",
        "1.   The mean heartrate is 104.7 bpm \n",
        "2.   The mean chest temperature is 36.3 degree celsius\n",
        "3.   The mean ankle temperature is 33.7 degree celsius\n",
        "4.   The mean hand temperature is 33.1 degree celsius\n",
        "\n"
      ],
      "metadata": {
        "id": "y9EnvAU1smfI"
      }
    },
    {
      "cell_type": "code",
      "source": [
        "dev_data"
      ],
      "metadata": {
        "id": "rQM9ccsDuE31",
        "colab": {
          "base_uri": "https://localhost:8080/",
          "height": 487
        },
        "outputId": "980b31f7-e979-40d9-ac89-52add57703ef"
      },
      "execution_count": null,
      "outputs": [
        {
          "output_type": "execute_result",
          "data": {
            "text/plain": [
              "            subject  timestamp  activityID  heartrate_bpm  imu_hand_temp  \\\n",
              "100147  subject106p     430.94           2           71.0        33.4375   \n",
              "41481   subject102p    3462.86           7          125.0        30.2500   \n",
              "98583   subject106p     205.95           1           62.0        33.3750   \n",
              "134840  subject107p    2748.49           7          124.0        33.0000   \n",
              "47809   subject103p     891.96           3           80.0        32.4375   \n",
              "...             ...        ...         ...            ...            ...   \n",
              "100580  subject106p     480.05           2           79.0        33.5000   \n",
              "24573   subject102p     274.11           1           77.0        33.8125   \n",
              "81039   subject105p    1051.73          17           85.0        35.3125   \n",
              "95428   subject105p    3406.91           5          157.0        33.8125   \n",
              "101273  subject106p     555.95           2           72.0        33.5000   \n",
              "\n",
              "        imu_hand_3d_acceleration_1  imu_hand_3d_acceleration_2  \\\n",
              "100147                   -0.009391                    8.552930   \n",
              "41481                    -3.339800                    5.348450   \n",
              "98583                     4.889090                   -0.217525   \n",
              "134840                   -5.800890                   11.216900   \n",
              "47809                    -8.834380                    2.423160   \n",
              "...                            ...                         ...   \n",
              "100580                    0.499793                    8.440010   \n",
              "24573                     6.849620                    2.672560   \n",
              "81039                    -3.987660                    7.262780   \n",
              "95428                     5.168820                   -0.312255   \n",
              "101273                    0.055021                    9.372960   \n",
              "\n",
              "        imu_hand_3d_acceleration_3  imu_hand_3d_gyroscope_1  \\\n",
              "100147                    4.552610                -0.047115   \n",
              "41481                     3.936220                -0.572828   \n",
              "98583                     8.196410                -0.015473   \n",
              "134840                    0.377209                -0.450670   \n",
              "47809                     2.940090                -0.267378   \n",
              "...                            ...                      ...   \n",
              "100580                    5.099440                 0.054998   \n",
              "24573                     6.407120                -0.015891   \n",
              "81039                    -3.161620                -0.028273   \n",
              "95428                     2.119910                 0.940142   \n",
              "101273                    2.972830                 0.028977   \n",
              "\n",
              "        imu_hand_3d_gyroscope_2  ...  imu_ankle_temp  \\\n",
              "100147                 0.011145  ...         34.6875   \n",
              "41481                 -0.215467  ...         34.0625   \n",
              "98583                  0.022506  ...         34.5625   \n",
              "134840                -0.114042  ...         32.4375   \n",
              "47809                  0.145254  ...         33.3750   \n",
              "...                         ...  ...             ...   \n",
              "100580                -0.120982  ...         34.7500   \n",
              "24573                 -0.014769  ...         34.6250   \n",
              "81039                  0.408930  ...         34.5000   \n",
              "95428                 -1.745670  ...         34.0625   \n",
              "101273                 0.014587  ...         34.7500   \n",
              "\n",
              "        imu_ankle_3d_acceleration_1  imu_ankle_3d_acceleration_2  \\\n",
              "100147                     9.548610                    -1.101720   \n",
              "41481                     20.406900                    -2.361410   \n",
              "98583                     -0.133551                    -9.464030   \n",
              "134840                     9.873390                    -0.024914   \n",
              "47809                      9.895170                    -0.090676   \n",
              "...                             ...                          ...   \n",
              "100580                     9.615650                    -0.909786   \n",
              "24573                     -0.362816                    -9.309130   \n",
              "81039                      9.318700                    -0.224133   \n",
              "95428                     26.967200                    17.480500   \n",
              "101273                     9.516770                    -0.874961   \n",
              "\n",
              "        imu_ankle_3d_acceleration_3  imu_ankle_3d_gyroscope_1  \\\n",
              "100147                    -2.767050                 -0.047547   \n",
              "41481                     -0.949937                 -2.203580   \n",
              "98583                     -3.509060                 -0.006488   \n",
              "134840                    -4.699880                 -0.184468   \n",
              "47809                     -1.303370                  0.021256   \n",
              "...                             ...                       ...   \n",
              "100580                    -3.076270                  0.050105   \n",
              "24573                     -3.705320                 -0.020255   \n",
              "81039                     -3.122160                  0.146185   \n",
              "95428                    -13.431600                  2.248050   \n",
              "101273                    -2.614420                  0.018392   \n",
              "\n",
              "        imu_ankle_3d_gyroscope_2  imu_ankle_3d_gyroscope_3  \\\n",
              "100147                 -0.036158                  0.029111   \n",
              "41481                   1.342190                 -2.785320   \n",
              "98583                  -0.000722                 -0.012199   \n",
              "134840                  0.000733                 -0.865774   \n",
              "47809                   0.016670                 -0.038746   \n",
              "...                          ...                       ...   \n",
              "100580                 -0.041818                 -0.017949   \n",
              "24573                  -0.005088                 -0.010700   \n",
              "81039                  -0.017308                 -0.060792   \n",
              "95428                   1.187540                  8.179240   \n",
              "101273                  0.001973                  0.017039   \n",
              "\n",
              "        imu_ankle_3d_magnetometer_1  imu_ankle_3d_magnetometer_2  \\\n",
              "100147                    -18.41920                     -3.18956   \n",
              "41481                     -23.43480                    -24.00240   \n",
              "98583                     -17.19980                     26.69650   \n",
              "134840                    -47.24700                    -14.87930   \n",
              "47809                      -6.47282                     -3.01688   \n",
              "...                             ...                          ...   \n",
              "100580                    -17.62480                     -4.25746   \n",
              "24573                     -12.89780                     23.72300   \n",
              "81039                     -35.63870                     27.61170   \n",
              "95428                     -46.57530                    -12.18490   \n",
              "101273                    -18.31370                     -2.81236   \n",
              "\n",
              "        imu_ankle_3d_magnetometer_3  \n",
              "100147                     12.41010  \n",
              "41481                      -4.69679  \n",
              "98583                      -4.78197  \n",
              "134840                     13.88240  \n",
              "47809                      23.60990  \n",
              "...                             ...  \n",
              "100580                     12.98150  \n",
              "24573                      -4.27391  \n",
              "81039                      37.27620  \n",
              "95428                      22.10790  \n",
              "101273                     11.13350  \n",
              "\n",
              "[80422 rows x 34 columns]"
            ],
            "text/html": [
              "\n",
              "  <div id=\"df-e10c5bfc-0283-4691-b79f-e60c9f2d9432\">\n",
              "    <div class=\"colab-df-container\">\n",
              "      <div>\n",
              "<style scoped>\n",
              "    .dataframe tbody tr th:only-of-type {\n",
              "        vertical-align: middle;\n",
              "    }\n",
              "\n",
              "    .dataframe tbody tr th {\n",
              "        vertical-align: top;\n",
              "    }\n",
              "\n",
              "    .dataframe thead th {\n",
              "        text-align: right;\n",
              "    }\n",
              "</style>\n",
              "<table border=\"1\" class=\"dataframe\">\n",
              "  <thead>\n",
              "    <tr style=\"text-align: right;\">\n",
              "      <th></th>\n",
              "      <th>subject</th>\n",
              "      <th>timestamp</th>\n",
              "      <th>activityID</th>\n",
              "      <th>heartrate_bpm</th>\n",
              "      <th>imu_hand_temp</th>\n",
              "      <th>imu_hand_3d_acceleration_1</th>\n",
              "      <th>imu_hand_3d_acceleration_2</th>\n",
              "      <th>imu_hand_3d_acceleration_3</th>\n",
              "      <th>imu_hand_3d_gyroscope_1</th>\n",
              "      <th>imu_hand_3d_gyroscope_2</th>\n",
              "      <th>...</th>\n",
              "      <th>imu_ankle_temp</th>\n",
              "      <th>imu_ankle_3d_acceleration_1</th>\n",
              "      <th>imu_ankle_3d_acceleration_2</th>\n",
              "      <th>imu_ankle_3d_acceleration_3</th>\n",
              "      <th>imu_ankle_3d_gyroscope_1</th>\n",
              "      <th>imu_ankle_3d_gyroscope_2</th>\n",
              "      <th>imu_ankle_3d_gyroscope_3</th>\n",
              "      <th>imu_ankle_3d_magnetometer_1</th>\n",
              "      <th>imu_ankle_3d_magnetometer_2</th>\n",
              "      <th>imu_ankle_3d_magnetometer_3</th>\n",
              "    </tr>\n",
              "  </thead>\n",
              "  <tbody>\n",
              "    <tr>\n",
              "      <th>100147</th>\n",
              "      <td>subject106p</td>\n",
              "      <td>430.94</td>\n",
              "      <td>2</td>\n",
              "      <td>71.0</td>\n",
              "      <td>33.4375</td>\n",
              "      <td>-0.009391</td>\n",
              "      <td>8.552930</td>\n",
              "      <td>4.552610</td>\n",
              "      <td>-0.047115</td>\n",
              "      <td>0.011145</td>\n",
              "      <td>...</td>\n",
              "      <td>34.6875</td>\n",
              "      <td>9.548610</td>\n",
              "      <td>-1.101720</td>\n",
              "      <td>-2.767050</td>\n",
              "      <td>-0.047547</td>\n",
              "      <td>-0.036158</td>\n",
              "      <td>0.029111</td>\n",
              "      <td>-18.41920</td>\n",
              "      <td>-3.18956</td>\n",
              "      <td>12.41010</td>\n",
              "    </tr>\n",
              "    <tr>\n",
              "      <th>41481</th>\n",
              "      <td>subject102p</td>\n",
              "      <td>3462.86</td>\n",
              "      <td>7</td>\n",
              "      <td>125.0</td>\n",
              "      <td>30.2500</td>\n",
              "      <td>-3.339800</td>\n",
              "      <td>5.348450</td>\n",
              "      <td>3.936220</td>\n",
              "      <td>-0.572828</td>\n",
              "      <td>-0.215467</td>\n",
              "      <td>...</td>\n",
              "      <td>34.0625</td>\n",
              "      <td>20.406900</td>\n",
              "      <td>-2.361410</td>\n",
              "      <td>-0.949937</td>\n",
              "      <td>-2.203580</td>\n",
              "      <td>1.342190</td>\n",
              "      <td>-2.785320</td>\n",
              "      <td>-23.43480</td>\n",
              "      <td>-24.00240</td>\n",
              "      <td>-4.69679</td>\n",
              "    </tr>\n",
              "    <tr>\n",
              "      <th>98583</th>\n",
              "      <td>subject106p</td>\n",
              "      <td>205.95</td>\n",
              "      <td>1</td>\n",
              "      <td>62.0</td>\n",
              "      <td>33.3750</td>\n",
              "      <td>4.889090</td>\n",
              "      <td>-0.217525</td>\n",
              "      <td>8.196410</td>\n",
              "      <td>-0.015473</td>\n",
              "      <td>0.022506</td>\n",
              "      <td>...</td>\n",
              "      <td>34.5625</td>\n",
              "      <td>-0.133551</td>\n",
              "      <td>-9.464030</td>\n",
              "      <td>-3.509060</td>\n",
              "      <td>-0.006488</td>\n",
              "      <td>-0.000722</td>\n",
              "      <td>-0.012199</td>\n",
              "      <td>-17.19980</td>\n",
              "      <td>26.69650</td>\n",
              "      <td>-4.78197</td>\n",
              "    </tr>\n",
              "    <tr>\n",
              "      <th>134840</th>\n",
              "      <td>subject107p</td>\n",
              "      <td>2748.49</td>\n",
              "      <td>7</td>\n",
              "      <td>124.0</td>\n",
              "      <td>33.0000</td>\n",
              "      <td>-5.800890</td>\n",
              "      <td>11.216900</td>\n",
              "      <td>0.377209</td>\n",
              "      <td>-0.450670</td>\n",
              "      <td>-0.114042</td>\n",
              "      <td>...</td>\n",
              "      <td>32.4375</td>\n",
              "      <td>9.873390</td>\n",
              "      <td>-0.024914</td>\n",
              "      <td>-4.699880</td>\n",
              "      <td>-0.184468</td>\n",
              "      <td>0.000733</td>\n",
              "      <td>-0.865774</td>\n",
              "      <td>-47.24700</td>\n",
              "      <td>-14.87930</td>\n",
              "      <td>13.88240</td>\n",
              "    </tr>\n",
              "    <tr>\n",
              "      <th>47809</th>\n",
              "      <td>subject103p</td>\n",
              "      <td>891.96</td>\n",
              "      <td>3</td>\n",
              "      <td>80.0</td>\n",
              "      <td>32.4375</td>\n",
              "      <td>-8.834380</td>\n",
              "      <td>2.423160</td>\n",
              "      <td>2.940090</td>\n",
              "      <td>-0.267378</td>\n",
              "      <td>0.145254</td>\n",
              "      <td>...</td>\n",
              "      <td>33.3750</td>\n",
              "      <td>9.895170</td>\n",
              "      <td>-0.090676</td>\n",
              "      <td>-1.303370</td>\n",
              "      <td>0.021256</td>\n",
              "      <td>0.016670</td>\n",
              "      <td>-0.038746</td>\n",
              "      <td>-6.47282</td>\n",
              "      <td>-3.01688</td>\n",
              "      <td>23.60990</td>\n",
              "    </tr>\n",
              "    <tr>\n",
              "      <th>...</th>\n",
              "      <td>...</td>\n",
              "      <td>...</td>\n",
              "      <td>...</td>\n",
              "      <td>...</td>\n",
              "      <td>...</td>\n",
              "      <td>...</td>\n",
              "      <td>...</td>\n",
              "      <td>...</td>\n",
              "      <td>...</td>\n",
              "      <td>...</td>\n",
              "      <td>...</td>\n",
              "      <td>...</td>\n",
              "      <td>...</td>\n",
              "      <td>...</td>\n",
              "      <td>...</td>\n",
              "      <td>...</td>\n",
              "      <td>...</td>\n",
              "      <td>...</td>\n",
              "      <td>...</td>\n",
              "      <td>...</td>\n",
              "      <td>...</td>\n",
              "    </tr>\n",
              "    <tr>\n",
              "      <th>100580</th>\n",
              "      <td>subject106p</td>\n",
              "      <td>480.05</td>\n",
              "      <td>2</td>\n",
              "      <td>79.0</td>\n",
              "      <td>33.5000</td>\n",
              "      <td>0.499793</td>\n",
              "      <td>8.440010</td>\n",
              "      <td>5.099440</td>\n",
              "      <td>0.054998</td>\n",
              "      <td>-0.120982</td>\n",
              "      <td>...</td>\n",
              "      <td>34.7500</td>\n",
              "      <td>9.615650</td>\n",
              "      <td>-0.909786</td>\n",
              "      <td>-3.076270</td>\n",
              "      <td>0.050105</td>\n",
              "      <td>-0.041818</td>\n",
              "      <td>-0.017949</td>\n",
              "      <td>-17.62480</td>\n",
              "      <td>-4.25746</td>\n",
              "      <td>12.98150</td>\n",
              "    </tr>\n",
              "    <tr>\n",
              "      <th>24573</th>\n",
              "      <td>subject102p</td>\n",
              "      <td>274.11</td>\n",
              "      <td>1</td>\n",
              "      <td>77.0</td>\n",
              "      <td>33.8125</td>\n",
              "      <td>6.849620</td>\n",
              "      <td>2.672560</td>\n",
              "      <td>6.407120</td>\n",
              "      <td>-0.015891</td>\n",
              "      <td>-0.014769</td>\n",
              "      <td>...</td>\n",
              "      <td>34.6250</td>\n",
              "      <td>-0.362816</td>\n",
              "      <td>-9.309130</td>\n",
              "      <td>-3.705320</td>\n",
              "      <td>-0.020255</td>\n",
              "      <td>-0.005088</td>\n",
              "      <td>-0.010700</td>\n",
              "      <td>-12.89780</td>\n",
              "      <td>23.72300</td>\n",
              "      <td>-4.27391</td>\n",
              "    </tr>\n",
              "    <tr>\n",
              "      <th>81039</th>\n",
              "      <td>subject105p</td>\n",
              "      <td>1051.73</td>\n",
              "      <td>17</td>\n",
              "      <td>85.0</td>\n",
              "      <td>35.3125</td>\n",
              "      <td>-3.987660</td>\n",
              "      <td>7.262780</td>\n",
              "      <td>-3.161620</td>\n",
              "      <td>-0.028273</td>\n",
              "      <td>0.408930</td>\n",
              "      <td>...</td>\n",
              "      <td>34.5000</td>\n",
              "      <td>9.318700</td>\n",
              "      <td>-0.224133</td>\n",
              "      <td>-3.122160</td>\n",
              "      <td>0.146185</td>\n",
              "      <td>-0.017308</td>\n",
              "      <td>-0.060792</td>\n",
              "      <td>-35.63870</td>\n",
              "      <td>27.61170</td>\n",
              "      <td>37.27620</td>\n",
              "    </tr>\n",
              "    <tr>\n",
              "      <th>95428</th>\n",
              "      <td>subject105p</td>\n",
              "      <td>3406.91</td>\n",
              "      <td>5</td>\n",
              "      <td>157.0</td>\n",
              "      <td>33.8125</td>\n",
              "      <td>5.168820</td>\n",
              "      <td>-0.312255</td>\n",
              "      <td>2.119910</td>\n",
              "      <td>0.940142</td>\n",
              "      <td>-1.745670</td>\n",
              "      <td>...</td>\n",
              "      <td>34.0625</td>\n",
              "      <td>26.967200</td>\n",
              "      <td>17.480500</td>\n",
              "      <td>-13.431600</td>\n",
              "      <td>2.248050</td>\n",
              "      <td>1.187540</td>\n",
              "      <td>8.179240</td>\n",
              "      <td>-46.57530</td>\n",
              "      <td>-12.18490</td>\n",
              "      <td>22.10790</td>\n",
              "    </tr>\n",
              "    <tr>\n",
              "      <th>101273</th>\n",
              "      <td>subject106p</td>\n",
              "      <td>555.95</td>\n",
              "      <td>2</td>\n",
              "      <td>72.0</td>\n",
              "      <td>33.5000</td>\n",
              "      <td>0.055021</td>\n",
              "      <td>9.372960</td>\n",
              "      <td>2.972830</td>\n",
              "      <td>0.028977</td>\n",
              "      <td>0.014587</td>\n",
              "      <td>...</td>\n",
              "      <td>34.7500</td>\n",
              "      <td>9.516770</td>\n",
              "      <td>-0.874961</td>\n",
              "      <td>-2.614420</td>\n",
              "      <td>0.018392</td>\n",
              "      <td>0.001973</td>\n",
              "      <td>0.017039</td>\n",
              "      <td>-18.31370</td>\n",
              "      <td>-2.81236</td>\n",
              "      <td>11.13350</td>\n",
              "    </tr>\n",
              "  </tbody>\n",
              "</table>\n",
              "<p>80422 rows × 34 columns</p>\n",
              "</div>\n",
              "      <button class=\"colab-df-convert\" onclick=\"convertToInteractive('df-e10c5bfc-0283-4691-b79f-e60c9f2d9432')\"\n",
              "              title=\"Convert this dataframe to an interactive table.\"\n",
              "              style=\"display:none;\">\n",
              "        \n",
              "  <svg xmlns=\"http://www.w3.org/2000/svg\" height=\"24px\"viewBox=\"0 0 24 24\"\n",
              "       width=\"24px\">\n",
              "    <path d=\"M0 0h24v24H0V0z\" fill=\"none\"/>\n",
              "    <path d=\"M18.56 5.44l.94 2.06.94-2.06 2.06-.94-2.06-.94-.94-2.06-.94 2.06-2.06.94zm-11 1L8.5 8.5l.94-2.06 2.06-.94-2.06-.94L8.5 2.5l-.94 2.06-2.06.94zm10 10l.94 2.06.94-2.06 2.06-.94-2.06-.94-.94-2.06-.94 2.06-2.06.94z\"/><path d=\"M17.41 7.96l-1.37-1.37c-.4-.4-.92-.59-1.43-.59-.52 0-1.04.2-1.43.59L10.3 9.45l-7.72 7.72c-.78.78-.78 2.05 0 2.83L4 21.41c.39.39.9.59 1.41.59.51 0 1.02-.2 1.41-.59l7.78-7.78 2.81-2.81c.8-.78.8-2.07 0-2.86zM5.41 20L4 18.59l7.72-7.72 1.47 1.35L5.41 20z\"/>\n",
              "  </svg>\n",
              "      </button>\n",
              "      \n",
              "  <style>\n",
              "    .colab-df-container {\n",
              "      display:flex;\n",
              "      flex-wrap:wrap;\n",
              "      gap: 12px;\n",
              "    }\n",
              "\n",
              "    .colab-df-convert {\n",
              "      background-color: #E8F0FE;\n",
              "      border: none;\n",
              "      border-radius: 50%;\n",
              "      cursor: pointer;\n",
              "      display: none;\n",
              "      fill: #1967D2;\n",
              "      height: 32px;\n",
              "      padding: 0 0 0 0;\n",
              "      width: 32px;\n",
              "    }\n",
              "\n",
              "    .colab-df-convert:hover {\n",
              "      background-color: #E2EBFA;\n",
              "      box-shadow: 0px 1px 2px rgba(60, 64, 67, 0.3), 0px 1px 3px 1px rgba(60, 64, 67, 0.15);\n",
              "      fill: #174EA6;\n",
              "    }\n",
              "\n",
              "    [theme=dark] .colab-df-convert {\n",
              "      background-color: #3B4455;\n",
              "      fill: #D2E3FC;\n",
              "    }\n",
              "\n",
              "    [theme=dark] .colab-df-convert:hover {\n",
              "      background-color: #434B5C;\n",
              "      box-shadow: 0px 1px 3px 1px rgba(0, 0, 0, 0.15);\n",
              "      filter: drop-shadow(0px 1px 2px rgba(0, 0, 0, 0.3));\n",
              "      fill: #FFFFFF;\n",
              "    }\n",
              "  </style>\n",
              "\n",
              "      <script>\n",
              "        const buttonEl =\n",
              "          document.querySelector('#df-e10c5bfc-0283-4691-b79f-e60c9f2d9432 button.colab-df-convert');\n",
              "        buttonEl.style.display =\n",
              "          google.colab.kernel.accessAllowed ? 'block' : 'none';\n",
              "\n",
              "        async function convertToInteractive(key) {\n",
              "          const element = document.querySelector('#df-e10c5bfc-0283-4691-b79f-e60c9f2d9432');\n",
              "          const dataTable =\n",
              "            await google.colab.kernel.invokeFunction('convertToInteractive',\n",
              "                                                     [key], {});\n",
              "          if (!dataTable) return;\n",
              "\n",
              "          const docLinkHtml = 'Like what you see? Visit the ' +\n",
              "            '<a target=\"_blank\" href=https://colab.research.google.com/notebooks/data_table.ipynb>data table notebook</a>'\n",
              "            + ' to learn more about interactive tables.';\n",
              "          element.innerHTML = '';\n",
              "          dataTable['output_type'] = 'display_data';\n",
              "          await google.colab.output.renderOutput(dataTable, element);\n",
              "          const docLink = document.createElement('div');\n",
              "          docLink.innerHTML = docLinkHtml;\n",
              "          element.appendChild(docLink);\n",
              "        }\n",
              "      </script>\n",
              "    </div>\n",
              "  </div>\n",
              "  "
            ]
          },
          "metadata": {},
          "execution_count": 264
        }
      ]
    },
    {
      "cell_type": "code",
      "source": [
        "dev_data3 = dev_data"
      ],
      "metadata": {
        "id": "rBM9DwtNt66V"
      },
      "execution_count": null,
      "outputs": []
    },
    {
      "cell_type": "markdown",
      "source": [
        "To find out if there are any relationships in the dataset, we would plot correlations using a heatmap. A heatmap can be described as a two-dimensional representation of data with colors."
      ],
      "metadata": {
        "id": "EuykoFPR7OhA"
      }
    },
    {
      "cell_type": "code",
      "source": [
        "#creating a seperate dataframe for correlation\n",
        "dev_data3 = dev_data\n",
        "data_corr = dev_data3.corr()\n",
        "\n",
        "#dropping activity ID for correlation \n",
        "df_corr = data_corr.drop(['activityID'], axis = 1)\n",
        "\n",
        "f, ax = plt.subplots(figsize=(12, 10))\n",
        "#plotting the correlations \n",
        "#blue represents strong correlation \n",
        "sns.heatmap(df_corr, mask=np.zeros_like(df_corr, dtype=np.bool), cmap = \"RdBu\",ax=ax)\n",
        "plt.title('Correlations within the data set')\n",
        "plt.show()"
      ],
      "metadata": {
        "colab": {
          "base_uri": "https://localhost:8080/",
          "height": 832
        },
        "id": "sJ7kJqCqtsdN",
        "outputId": "37e631f5-8558-48cc-f381-81892408e976"
      },
      "execution_count": null,
      "outputs": [
        {
          "output_type": "stream",
          "name": "stderr",
          "text": [
            "<ipython-input-266-623877773008>:11: DeprecationWarning: `np.bool` is a deprecated alias for the builtin `bool`. To silence this warning, use `bool` by itself. Doing this will not modify any behavior and is safe. If you specifically wanted the numpy scalar type, use `np.bool_` here.\n",
            "Deprecated in NumPy 1.20; for more details and guidance: https://numpy.org/devdocs/release/1.20.0-notes.html#deprecations\n",
            "  sns.heatmap(df_corr, mask=np.zeros_like(df_corr, dtype=np.bool), cmap = \"RdBu\",ax=ax)\n"
          ]
        },
        {
          "output_type": "display_data",
          "data": {
            "text/plain": [
              "<Figure size 864x720 with 2 Axes>"
            ],
            "image/png": "[encoded data removed]"
          },
          "metadata": {
            "needs_background": "light"
          }
        }
      ]
    },
    {
      "cell_type": "markdown",
      "source": [
        "in this heatmap, colors represent the correlation. a variable represented by an intense blue color indicates a trend meanwhile a variable represented by a light color indicates little or no correlation. Variables such as imu chest 3d gyroscope and imu ankle gyroscope will not be focused on in this exploartory data analysis because they have weak correlation.\n",
        "\n",
        "From the heatmap above, we can see that the chest and hand temperature are correlated. we can also note the hand and ankle temperature are correlated.\n",
        "\n",
        "we will explore some variables:\n",
        "\n",
        "1. Heartrate\n",
        "\n",
        "\n",
        "2. Temperature i.e chest temp, ankle temp and hand temp"
      ],
      "metadata": {
        "id": "tfEkUZeDuJu7"
      }
    },
    {
      "cell_type": "markdown",
      "source": [
        "**3.1 Heartrate**"
      ],
      "metadata": {
        "id": "FVjl7o3yDx32"
      }
    },
    {
      "cell_type": "code",
      "source": [
        "dev_data['heartrate_bpm'].describe()"
      ],
      "metadata": {
        "colab": {
          "base_uri": "https://localhost:8080/"
        },
        "id": "-2nF7nBRvKDc",
        "outputId": "b11b7639-281a-483b-87f5-2818248e5abc"
      },
      "execution_count": null,
      "outputs": [
        {
          "output_type": "execute_result",
          "data": {
            "text/plain": [
              "count    80422.000000\n",
              "mean       104.787173\n",
              "std         26.166685\n",
              "min         57.000000\n",
              "25%         84.000000\n",
              "50%        100.000000\n",
              "75%        122.000000\n",
              "max        200.000000\n",
              "Name: heartrate_bpm, dtype: float64"
            ]
          },
          "metadata": {},
          "execution_count": 267
        }
      ]
    },
    {
      "cell_type": "code",
      "source": [
        "heartrate_chart1 = sns.barplot(y=dev_data[\"heartrate_bpm\"],x = dev_data['activityID'])\n",
        "plt.title('barchart showing heartrate and activity')"
      ],
      "metadata": {
        "colab": {
          "base_uri": "https://localhost:8080/",
          "height": 313
        },
        "id": "Oy-Ufjh7vKA9",
        "outputId": "65696081-3c40-4681-cc18-7943c03ea53c"
      },
      "execution_count": null,
      "outputs": [
        {
          "output_type": "execute_result",
          "data": {
            "text/plain": [
              "Text(0.5, 1.0, 'barchart showing heartrate and activity')"
            ]
          },
          "metadata": {},
          "execution_count": 268
        },
        {
          "output_type": "display_data",
          "data": {
            "text/plain": [
              "<Figure size 432x288 with 1 Axes>"
            ],
            "image/png": "[encoded data removed]"
          },
          "metadata": {
            "needs_background": "light"
          }
        }
      ]
    },
    {
      "cell_type": "markdown",
      "source": [
        "**Findings**\n",
        "\n",
        "\n",
        " The followimg could be noted from the exploration of the heartrate variable\n",
        "\n",
        "\n",
        "*   activities with the ID 24 and 5(rope skipping and running) have the highest heartrates\n",
        "*   activities with the ID 1 and 2 (lying down and sitting) have the lowest heartrates.\n",
        "*   the mean value for heartrate is 104.7 bpm\n",
        "*   the maximum value for heartrate is 200 bpm\n",
        "*   the minimum value for heartrate is 57 bpm\n",
        "\n",
        "\n",
        "\n",
        "\n"
      ],
      "metadata": {
        "id": "TZJQ0oWGwqW_"
      }
    },
    {
      "cell_type": "markdown",
      "source": [
        "**3.2 Temperature**"
      ],
      "metadata": {
        "id": "NxGW5Lr5xmzW"
      }
    },
    {
      "cell_type": "code",
      "source": [
        "temp_data= dev_data.groupby('activityID')['imu_hand_temp','imu_chest_temp','imu_ankle_temp'].mean()\n",
        "#temp_data= temp_data.sort_values('imu_hand_temp', ascending = False )\n",
        "temp_data"
      ],
      "metadata": {
        "colab": {
          "base_uri": "https://localhost:8080/",
          "height": 494
        },
        "id": "7CV6uxEUvJ93",
        "outputId": "12a4e109-371c-4e77-c7ef-a98eba5cda59"
      },
      "execution_count": null,
      "outputs": [
        {
          "output_type": "stream",
          "name": "stderr",
          "text": [
            "<ipython-input-269-e5aebd5e8bf9>:1: FutureWarning: Indexing with multiple keys (implicitly converted to a tuple of keys) will be deprecated, use a list instead.\n",
            "  temp_data= dev_data.groupby('activityID')['imu_hand_temp','imu_chest_temp','imu_ankle_temp'].mean()\n"
          ]
        },
        {
          "output_type": "execute_result",
          "data": {
            "text/plain": [
              "            imu_hand_temp  imu_chest_temp  imu_ankle_temp\n",
              "activityID                                               \n",
              "1               32.717172       35.086402       32.968392\n",
              "2               33.254321       35.813454       33.632412\n",
              "3               33.628243       36.155049       33.895604\n",
              "4               32.466474       37.008262       33.829062\n",
              "5               32.042639       35.112271       33.091330\n",
              "6               32.425745       36.791266       33.059364\n",
              "7               31.932478       36.417350       33.523522\n",
              "12              33.538642       37.073420       34.170349\n",
              "13              33.323872       37.025663       34.182360\n",
              "16              34.174063       37.051636       34.458051\n",
              "17              34.019084       36.672465       34.280047\n",
              "24              31.386694       34.622213       33.017168"
            ],
            "text/html": [
              "\n",
              "  <div id=\"df-be19e0f5-007d-49cc-878a-d6773719bf6b\">\n",
              "    <div class=\"colab-df-container\">\n",
              "      <div>\n",
              "<style scoped>\n",
              "    .dataframe tbody tr th:only-of-type {\n",
              "        vertical-align: middle;\n",
              "    }\n",
              "\n",
              "    .dataframe tbody tr th {\n",
              "        vertical-align: top;\n",
              "    }\n",
              "\n",
              "    .dataframe thead th {\n",
              "        text-align: right;\n",
              "    }\n",
              "</style>\n",
              "<table border=\"1\" class=\"dataframe\">\n",
              "  <thead>\n",
              "    <tr style=\"text-align: right;\">\n",
              "      <th></th>\n",
              "      <th>imu_hand_temp</th>\n",
              "      <th>imu_chest_temp</th>\n",
              "      <th>imu_ankle_temp</th>\n",
              "    </tr>\n",
              "    <tr>\n",
              "      <th>activityID</th>\n",
              "      <th></th>\n",
              "      <th></th>\n",
              "      <th></th>\n",
              "    </tr>\n",
              "  </thead>\n",
              "  <tbody>\n",
              "    <tr>\n",
              "      <th>1</th>\n",
              "      <td>32.717172</td>\n",
              "      <td>35.086402</td>\n",
              "      <td>32.968392</td>\n",
              "    </tr>\n",
              "    <tr>\n",
              "      <th>2</th>\n",
              "      <td>33.254321</td>\n",
              "      <td>35.813454</td>\n",
              "      <td>33.632412</td>\n",
              "    </tr>\n",
              "    <tr>\n",
              "      <th>3</th>\n",
              "      <td>33.628243</td>\n",
              "      <td>36.155049</td>\n",
              "      <td>33.895604</td>\n",
              "    </tr>\n",
              "    <tr>\n",
              "      <th>4</th>\n",
              "      <td>32.466474</td>\n",
              "      <td>37.008262</td>\n",
              "      <td>33.829062</td>\n",
              "    </tr>\n",
              "    <tr>\n",
              "      <th>5</th>\n",
              "      <td>32.042639</td>\n",
              "      <td>35.112271</td>\n",
              "      <td>33.091330</td>\n",
              "    </tr>\n",
              "    <tr>\n",
              "      <th>6</th>\n",
              "      <td>32.425745</td>\n",
              "      <td>36.791266</td>\n",
              "      <td>33.059364</td>\n",
              "    </tr>\n",
              "    <tr>\n",
              "      <th>7</th>\n",
              "      <td>31.932478</td>\n",
              "      <td>36.417350</td>\n",
              "      <td>33.523522</td>\n",
              "    </tr>\n",
              "    <tr>\n",
              "      <th>12</th>\n",
              "      <td>33.538642</td>\n",
              "      <td>37.073420</td>\n",
              "      <td>34.170349</td>\n",
              "    </tr>\n",
              "    <tr>\n",
              "      <th>13</th>\n",
              "      <td>33.323872</td>\n",
              "      <td>37.025663</td>\n",
              "      <td>34.182360</td>\n",
              "    </tr>\n",
              "    <tr>\n",
              "      <th>16</th>\n",
              "      <td>34.174063</td>\n",
              "      <td>37.051636</td>\n",
              "      <td>34.458051</td>\n",
              "    </tr>\n",
              "    <tr>\n",
              "      <th>17</th>\n",
              "      <td>34.019084</td>\n",
              "      <td>36.672465</td>\n",
              "      <td>34.280047</td>\n",
              "    </tr>\n",
              "    <tr>\n",
              "      <th>24</th>\n",
              "      <td>31.386694</td>\n",
              "      <td>34.622213</td>\n",
              "      <td>33.017168</td>\n",
              "    </tr>\n",
              "  </tbody>\n",
              "</table>\n",
              "</div>\n",
              "      <button class=\"colab-df-convert\" onclick=\"convertToInteractive('df-be19e0f5-007d-49cc-878a-d6773719bf6b')\"\n",
              "              title=\"Convert this dataframe to an interactive table.\"\n",
              "              style=\"display:none;\">\n",
              "        \n",
              "  <svg xmlns=\"http://www.w3.org/2000/svg\" height=\"24px\"viewBox=\"0 0 24 24\"\n",
              "       width=\"24px\">\n",
              "    <path d=\"M0 0h24v24H0V0z\" fill=\"none\"/>\n",
              "    <path d=\"M18.56 5.44l.94 2.06.94-2.06 2.06-.94-2.06-.94-.94-2.06-.94 2.06-2.06.94zm-11 1L8.5 8.5l.94-2.06 2.06-.94-2.06-.94L8.5 2.5l-.94 2.06-2.06.94zm10 10l.94 2.06.94-2.06 2.06-.94-2.06-.94-.94-2.06-.94 2.06-2.06.94z\"/><path d=\"M17.41 7.96l-1.37-1.37c-.4-.4-.92-.59-1.43-.59-.52 0-1.04.2-1.43.59L10.3 9.45l-7.72 7.72c-.78.78-.78 2.05 0 2.83L4 21.41c.39.39.9.59 1.41.59.51 0 1.02-.2 1.41-.59l7.78-7.78 2.81-2.81c.8-.78.8-2.07 0-2.86zM5.41 20L4 18.59l7.72-7.72 1.47 1.35L5.41 20z\"/>\n",
              "  </svg>\n",
              "      </button>\n",
              "      \n",
              "  <style>\n",
              "    .colab-df-container {\n",
              "      display:flex;\n",
              "      flex-wrap:wrap;\n",
              "      gap: 12px;\n",
              "    }\n",
              "\n",
              "    .colab-df-convert {\n",
              "      background-color: #E8F0FE;\n",
              "      border: none;\n",
              "      border-radius: 50%;\n",
              "      cursor: pointer;\n",
              "      display: none;\n",
              "      fill: #1967D2;\n",
              "      height: 32px;\n",
              "      padding: 0 0 0 0;\n",
              "      width: 32px;\n",
              "    }\n",
              "\n",
              "    .colab-df-convert:hover {\n",
              "      background-color: #E2EBFA;\n",
              "      box-shadow: 0px 1px 2px rgba(60, 64, 67, 0.3), 0px 1px 3px 1px rgba(60, 64, 67, 0.15);\n",
              "      fill: #174EA6;\n",
              "    }\n",
              "\n",
              "    [theme=dark] .colab-df-convert {\n",
              "      background-color: #3B4455;\n",
              "      fill: #D2E3FC;\n",
              "    }\n",
              "\n",
              "    [theme=dark] .colab-df-convert:hover {\n",
              "      background-color: #434B5C;\n",
              "      box-shadow: 0px 1px 3px 1px rgba(0, 0, 0, 0.15);\n",
              "      filter: drop-shadow(0px 1px 2px rgba(0, 0, 0, 0.3));\n",
              "      fill: #FFFFFF;\n",
              "    }\n",
              "  </style>\n",
              "\n",
              "      <script>\n",
              "        const buttonEl =\n",
              "          document.querySelector('#df-be19e0f5-007d-49cc-878a-d6773719bf6b button.colab-df-convert');\n",
              "        buttonEl.style.display =\n",
              "          google.colab.kernel.accessAllowed ? 'block' : 'none';\n",
              "\n",
              "        async function convertToInteractive(key) {\n",
              "          const element = document.querySelector('#df-be19e0f5-007d-49cc-878a-d6773719bf6b');\n",
              "          const dataTable =\n",
              "            await google.colab.kernel.invokeFunction('convertToInteractive',\n",
              "                                                     [key], {});\n",
              "          if (!dataTable) return;\n",
              "\n",
              "          const docLinkHtml = 'Like what you see? Visit the ' +\n",
              "            '<a target=\"_blank\" href=https://colab.research.google.com/notebooks/data_table.ipynb>data table notebook</a>'\n",
              "            + ' to learn more about interactive tables.';\n",
              "          element.innerHTML = '';\n",
              "          dataTable['output_type'] = 'display_data';\n",
              "          await google.colab.output.renderOutput(dataTable, element);\n",
              "          const docLink = document.createElement('div');\n",
              "          docLink.innerHTML = docLinkHtml;\n",
              "          element.appendChild(docLink);\n",
              "        }\n",
              "      </script>\n",
              "    </div>\n",
              "  </div>\n",
              "  "
            ]
          },
          "metadata": {},
          "execution_count": 269
        }
      ]
    },
    {
      "cell_type": "code",
      "source": [
        "chesttemp_boxplot = sns.barplot(y=dev_data[\"imu_chest_temp\"],x = dev_data['activityID'])\n",
        "plt.title('barchart showing chest temperature and activity')"
      ],
      "metadata": {
        "colab": {
          "base_uri": "https://localhost:8080/",
          "height": 313
        },
        "id": "LdNCfLFDvJ7c",
        "outputId": "e233baa9-2a50-4e53-d4d3-414cbe7316b9"
      },
      "execution_count": null,
      "outputs": [
        {
          "output_type": "execute_result",
          "data": {
            "text/plain": [
              "Text(0.5, 1.0, 'barchart showing chest temperature and activity')"
            ]
          },
          "metadata": {},
          "execution_count": 270
        },
        {
          "output_type": "display_data",
          "data": {
            "text/plain": [
              "<Figure size 432x288 with 1 Axes>"
            ],
            "image/png": "[encoded data removed]"
          },
          "metadata": {
            "needs_background": "light"
          }
        }
      ]
    },
    {
      "cell_type": "code",
      "source": [
        "handtemp_boxplot = sns.barplot(y=dev_data[\"imu_hand_temp\"],x = dev_data['activityID'])\n",
        "plt.title('barchart showing hand temperature and activity')"
      ],
      "metadata": {
        "colab": {
          "base_uri": "https://localhost:8080/",
          "height": 313
        },
        "id": "YA00wLU9qKgj",
        "outputId": "a1f804db-80ab-458a-beea-5acaff9964dc"
      },
      "execution_count": null,
      "outputs": [
        {
          "output_type": "execute_result",
          "data": {
            "text/plain": [
              "Text(0.5, 1.0, 'barchart showing hand temperature and activity')"
            ]
          },
          "metadata": {},
          "execution_count": 271
        },
        {
          "output_type": "display_data",
          "data": {
            "text/plain": [
              "<Figure size 432x288 with 1 Axes>"
            ],
            "image/png": "[encoded data removed]"
          },
          "metadata": {
            "needs_background": "light"
          }
        }
      ]
    },
    {
      "cell_type": "code",
      "source": [
        "ankletemp_boxplot = sns.barplot(y=dev_data[\"imu_ankle_temp\"],x = dev_data['activityID'])\n",
        "plt.title('barchart showing ankle temperature and activity')"
      ],
      "metadata": {
        "colab": {
          "base_uri": "https://localhost:8080/",
          "height": 313
        },
        "id": "2QI00fzyy-Y0",
        "outputId": "69fa975c-5226-4825-be93-c0244c790dfd"
      },
      "execution_count": null,
      "outputs": [
        {
          "output_type": "execute_result",
          "data": {
            "text/plain": [
              "Text(0.5, 1.0, 'barchart showing ankle temperature and activity')"
            ]
          },
          "metadata": {},
          "execution_count": 272
        },
        {
          "output_type": "display_data",
          "data": {
            "text/plain": [
              "<Figure size 432x288 with 1 Axes>"
            ],
            "image/png": "[encoded data removed]"
          },
          "metadata": {
            "needs_background": "light"
          }
        }
      ]
    },
    {
      "cell_type": "code",
      "source": [
        "data['imu_chest_temp'].describe()"
      ],
      "metadata": {
        "colab": {
          "base_uri": "https://localhost:8080/"
        },
        "id": "XTNCUTu2zyy2",
        "outputId": "8fa4a55e-88aa-4256-9491-a875038f89de"
      },
      "execution_count": null,
      "outputs": [
        {
          "output_type": "execute_result",
          "data": {
            "text/plain": [
              "count    160844.000000\n",
              "mean         36.376690\n",
              "std           1.352527\n",
              "min          32.187500\n",
              "25%          35.500000\n",
              "50%          36.625000\n",
              "75%          37.562500\n",
              "max          38.562500\n",
              "Name: imu_chest_temp, dtype: float64"
            ]
          },
          "metadata": {},
          "execution_count": 273
        }
      ]
    },
    {
      "cell_type": "code",
      "source": [
        "data['imu_ankle_temp'].describe()"
      ],
      "metadata": {
        "colab": {
          "base_uri": "https://localhost:8080/"
        },
        "id": "P9Qz-ylRz4YF",
        "outputId": "c068cc36-9ee3-4355-ae4a-5c1736c3f786"
      },
      "execution_count": null,
      "outputs": [
        {
          "output_type": "execute_result",
          "data": {
            "text/plain": [
              "count    160844.000000\n",
              "mean         33.778378\n",
              "std           1.063591\n",
              "min          30.062500\n",
              "25%          33.125000\n",
              "50%          34.062500\n",
              "75%          34.562500\n",
              "max          35.437500\n",
              "Name: imu_ankle_temp, dtype: float64"
            ]
          },
          "metadata": {},
          "execution_count": 274
        }
      ]
    },
    {
      "cell_type": "code",
      "source": [
        "data['imu_hand_temp'].describe()"
      ],
      "metadata": {
        "colab": {
          "base_uri": "https://localhost:8080/"
        },
        "id": "hot_uG_5z4Uo",
        "outputId": "7b455606-3701-46b1-bf06-c55e2d495353"
      },
      "execution_count": null,
      "outputs": [
        {
          "output_type": "execute_result",
          "data": {
            "text/plain": [
              "count    160844.000000\n",
              "mean         33.123757\n",
              "std           1.355588\n",
              "min          30.062500\n",
              "25%          32.250000\n",
              "50%          33.375000\n",
              "75%          34.125000\n",
              "max          35.500000\n",
              "Name: imu_hand_temp, dtype: float64"
            ]
          },
          "metadata": {},
          "execution_count": 275
        }
      ]
    },
    {
      "cell_type": "markdown",
      "source": [
        "**Findings**\n",
        "\n",
        "From exploration of the temperature variables, it can be noted that there are different temperature values for different activity Ids which means there are different temperature levels for different types of physical activity. \n",
        "\n",
        "\n"
      ],
      "metadata": {
        "id": "DX2MoQCizYU6"
      }
    },
    {
      "cell_type": "markdown",
      "source": [
        "**3.3 Classifying different types of physical activity**\n",
        "\n",
        "According to the readme file, the subjects were made to undergo different types of physical activities. From the exploration of the temperature and heartrate variables we can also see there are different temperature and heartrate levels for each physical activity from the subjects. Therefore, Further exploration of the dataset will be conducted by classifiying the physical activities into:\n",
        "\n",
        "1. Moving activities and Non-moving activities\n",
        "2. Household chores and Non-household chores\n",
        "3. Exercise activities and non-exercise activities\n",
        "\n",
        "\n",
        "1. Moving activities and Non-moving activities\n",
        "\n",
        "   * Moving activities(activities with continious movement of legs):\n",
        "\n",
        "    Walking | running | cycling | Nordic walking | ascending stairs | descending stairs | vacuum cleaning | house cleaning | playing soccer | rope jumping\n",
        "\n",
        "   * Non-moving activities(activities without continous movement of legs):\n",
        "   \n",
        "    Lying | sitting | standing | watching tv | computer work | car driving      | ironing |folding laundry.\n",
        "\n",
        "2. Household chores and Non-household chores\n",
        "\n",
        "  *  Household chores(activities done to keep the house neat and tidy):\n",
        "\n",
        "    vacuum cleaning | house cleaning | ironing | folding laundry\n",
        "\n",
        "   * Non-household chores:\n",
        "\n",
        "    Walking | running | cycling | nordic walking | ascending stairs | descending stairs | playing soccer | lying | sitting | standing | watching tv | computer work | car driving |rope jumping  \n",
        "\n",
        "\n",
        "3. Exercise activities and non-exercise activities\n",
        "\n",
        "    * Exercise activities:\n",
        "\n",
        "    Walking | running | cycling | nordic walking | ascending stairs | descending stairs | playing soccer | rope jumping.\n",
        "\n",
        "    * Non-exercise activities:\n",
        "\n",
        "    vacuum cleaning | house cleaning | ironing | folding laundry | lying | sitting | standing | watching tv | computer work | car driving.\n",
        "\n"
      ],
      "metadata": {
        "id": "-a1bLSSVEG3G"
      }
    },
    {
      "cell_type": "code",
      "source": [
        "#Moving activities and Non-moving activities\n",
        "Moving_activites = ['4','5','6','7','12','13','16','19','20','24']\n",
        "Nonmoving_activities = ['1','2','3','9','10','11','17','18']\n",
        "\n",
        "Moving_activitesDF = dev_data.loc[(dev_data['activityID']==4)|(dev_data['activityID']==5)|(dev_data['activityID']==6)|(dev_data['activityID']==7)|(dev_data['activityID']==12)|\n",
        "                   (dev_data['activityID']==13)|(dev_data['activityID']==16)|(dev_data['activityID']==24)]\n",
        "\n",
        "Nonmoving_activitesDF =dev_data.loc[(dev_data['activityID']==1)|(dev_data['activityID']==2)|(dev_data['activityID']==3)|(dev_data['activityID']==9)|(dev_data['activityID']==17)]\n",
        "\n"
      ],
      "metadata": {
        "id": "h_1qAgdSy-Vi"
      },
      "execution_count": null,
      "outputs": []
    },
    {
      "cell_type": "code",
      "source": [
        "fig, leg_hr= plt.subplots(figsize=(8,6))\n",
        "\n",
        "leg_hr= sns.boxplot(y=Moving_activitesDF[\"heartrate_bpm\"])\n",
        "\n",
        "leg_hr= sns.boxplot(y=Nonmoving_activitesDF[\"heartrate_bpm\"], color = \"red\")\n",
        "plt.title('boxplot showing heart rate in moving and non moving activities')"
      ],
      "metadata": {
        "colab": {
          "base_uri": "https://localhost:8080/",
          "height": 395
        },
        "id": "M9gLZHEWy-Tl",
        "outputId": "a82247e6-16c6-4597-d0da-883ef8a76d28"
      },
      "execution_count": null,
      "outputs": [
        {
          "output_type": "execute_result",
          "data": {
            "text/plain": [
              "Text(0.5, 1.0, 'boxplot showing heart rate in moving and non moving activities')"
            ]
          },
          "metadata": {},
          "execution_count": 277
        },
        {
          "output_type": "display_data",
          "data": {
            "text/plain": [
              "<Figure size 576x432 with 1 Axes>"
            ],
            "image/png": "[encoded data removed]"
          },
          "metadata": {
            "needs_background": "light"
          }
        }
      ]
    },
    {
      "cell_type": "code",
      "source": [
        "\n",
        "fig, chest_temp = plt.subplots(figsize=(8,6))\n",
        "\n",
        "chest_temp = sns.boxplot(y=Moving_activitesDF[\"imu_chest_temp\"])\n",
        "\n",
        "chest_temp = sns.boxplot(y=Nonmoving_activitesDF[\"imu_chest_temp\"], color = \"red\")\n",
        "plt.title('boxplot showing chest temperature rate in moving and non moving activities')"
      ],
      "metadata": {
        "colab": {
          "base_uri": "https://localhost:8080/",
          "height": 395
        },
        "id": "J0KYDQb1y-RT",
        "outputId": "782d5d5f-bc7a-484d-e4ed-ec9f86eae853"
      },
      "execution_count": null,
      "outputs": [
        {
          "output_type": "execute_result",
          "data": {
            "text/plain": [
              "Text(0.5, 1.0, 'boxplot showing chest temperature rate in moving and non moving activities')"
            ]
          },
          "metadata": {},
          "execution_count": 278
        },
        {
          "output_type": "display_data",
          "data": {
            "text/plain": [
              "<Figure size 576x432 with 1 Axes>"
            ],
            "image/png": "[encoded data removed]"
          },
          "metadata": {
            "needs_background": "light"
          }
        }
      ]
    },
    {
      "cell_type": "code",
      "source": [
        "fig, hand_temp = plt.subplots(figsize=(8,6))\n",
        "\n",
        "hand_temp = sns.boxplot(y=Moving_activitesDF[\"imu_hand_temp\"])\n",
        "\n",
        "hand_temp = sns.boxplot(y=Nonmoving_activitesDF[\"imu_hand_temp\"], color = \"red\")\n",
        "plt.title('boxplot showing hand temperature in moving and non moving activities')"
      ],
      "metadata": {
        "colab": {
          "base_uri": "https://localhost:8080/",
          "height": 395
        },
        "id": "fjNH-HAEy-QJ",
        "outputId": "12260987-745e-46ad-de68-ecb1e9ebfb8c"
      },
      "execution_count": null,
      "outputs": [
        {
          "output_type": "execute_result",
          "data": {
            "text/plain": [
              "Text(0.5, 1.0, 'boxplot showing hand temperature in moving and non moving activities')"
            ]
          },
          "metadata": {},
          "execution_count": 279
        },
        {
          "output_type": "display_data",
          "data": {
            "text/plain": [
              "<Figure size 576x432 with 1 Axes>"
            ],
            "image/png": "[encoded data removed]"
          },
          "metadata": {
            "needs_background": "light"
          }
        }
      ]
    },
    {
      "cell_type": "code",
      "source": [
        "fig, ankle_temp = plt.subplots(figsize=(8,6))\n",
        "\n",
        "ankle_temp = sns.boxplot(y=Moving_activitesDF[\"imu_ankle_temp\"])\n",
        "\n",
        "ankle_temp = sns.boxplot(y=Nonmoving_activitesDF[\"imu_ankle_temp\"], color = \"red\")\n",
        "plt.title('boxplot showing ankle temperature in moving and non moving activities')"
      ],
      "metadata": {
        "colab": {
          "base_uri": "https://localhost:8080/",
          "height": 395
        },
        "id": "gmTJuo6Py-Ot",
        "outputId": "bad91af8-95e0-4365-c79d-baac68819f93"
      },
      "execution_count": null,
      "outputs": [
        {
          "output_type": "execute_result",
          "data": {
            "text/plain": [
              "Text(0.5, 1.0, 'boxplot showing ankle temperature in moving and non moving activities')"
            ]
          },
          "metadata": {},
          "execution_count": 280
        },
        {
          "output_type": "display_data",
          "data": {
            "text/plain": [
              "<Figure size 576x432 with 1 Axes>"
            ],
            "image/png": "[encoded data removed]"
          },
          "metadata": {
            "needs_background": "light"
          }
        }
      ]
    },
    {
      "cell_type": "code",
      "source": [
        "#household chores and Non-household chores\n",
        "household_chores = ['16','19','17','18']\n",
        "Nonhousehold_chores = ['1','2','3','4','5','6','7','9','10','11','12','13','20','24']\n",
        "\n",
        "household_choresDF = dev_data.loc[(dev_data['activityID']==16)|(dev_data['activityID']==19)|(dev_data['activityID']==17)|(dev_data['activityID']==18)]\n",
        "\n",
        "Nonhousehold_choresDF =dev_data.loc[(dev_data['activityID']==1)|(dev_data['activityID']==2)|(dev_data['activityID']==3)|(dev_data['activityID']==4)|(dev_data['activityID']==5)|\n",
        "(dev_data['activityID']==6)|(dev_data['activityID']==7)|(dev_data['activityID']==9)|(dev_data['activityID']==10)|(dev_data['activityID']==11)|\n",
        "(dev_data['activityID']==12)|(dev_data['activityID']==13)|(dev_data['activityID']==20)|(dev_data['activityID']==24)]\n"
      ],
      "metadata": {
        "id": "s7x4y_xwzAgu"
      },
      "execution_count": null,
      "outputs": []
    },
    {
      "cell_type": "code",
      "source": [
        "fig, leg_hr= plt.subplots(figsize=(8,6))\n",
        "\n",
        "housechore_hr= sns.boxplot(y=household_choresDF[\"heartrate_bpm\"])\n",
        "\n",
        "nonhousechore_hr= sns.boxplot(y=Nonhousehold_choresDF[\"heartrate_bpm\"], color = \"red\")\n",
        "plt.title('boxplot showing heart rate in household chores and non household chores')"
      ],
      "metadata": {
        "colab": {
          "base_uri": "https://localhost:8080/",
          "height": 395
        },
        "id": "ryABXBNE5iBT",
        "outputId": "aff1f431-b3ac-484d-93dd-74360a89f6b5"
      },
      "execution_count": null,
      "outputs": [
        {
          "output_type": "execute_result",
          "data": {
            "text/plain": [
              "Text(0.5, 1.0, 'boxplot showing heart rate in household chores and non household chores')"
            ]
          },
          "metadata": {},
          "execution_count": 282
        },
        {
          "output_type": "display_data",
          "data": {
            "text/plain": [
              "<Figure size 576x432 with 1 Axes>"
            ],
            "image/png": "[encoded data removed]"
          },
          "metadata": {
            "needs_background": "light"
          }
        }
      ]
    },
    {
      "cell_type": "code",
      "source": [
        "fig, leg_hr= plt.subplots(figsize=(8,6))\n",
        "\n",
        "leg_hr= sns.boxplot(y=household_choresDF[\"imu_chest_temp\"])\n",
        "\n",
        "leg_hr= sns.boxplot(y=Nonhousehold_choresDF[\"imu_chest_temp\"], color = \"red\")\n",
        "plt.title('boxplot showing chest temperature in household chores and non household chores')"
      ],
      "metadata": {
        "colab": {
          "base_uri": "https://localhost:8080/",
          "height": 395
        },
        "id": "aURDP7YC6EXI",
        "outputId": "cfba9b37-b09a-44dc-df13-735c09e46a01"
      },
      "execution_count": null,
      "outputs": [
        {
          "output_type": "execute_result",
          "data": {
            "text/plain": [
              "Text(0.5, 1.0, 'boxplot showing chest temperature in household chores and non household chores')"
            ]
          },
          "metadata": {},
          "execution_count": 283
        },
        {
          "output_type": "display_data",
          "data": {
            "text/plain": [
              "<Figure size 576x432 with 1 Axes>"
            ],
            "image/png": "[encoded data removed]"
          },
          "metadata": {
            "needs_background": "light"
          }
        }
      ]
    },
    {
      "cell_type": "code",
      "source": [
        "fig, leg_hr= plt.subplots(figsize=(8,6))\n",
        "\n",
        "leg_hr= sns.boxplot(y=household_choresDF[\"imu_hand_temp\"])\n",
        "\n",
        "leg_hr= sns.boxplot(y=Nonhousehold_choresDF[\"imu_hand_temp\"], color = \"red\")\n",
        "plt.title('boxplot showing hand temperature in household chores and non household chores')"
      ],
      "metadata": {
        "colab": {
          "base_uri": "https://localhost:8080/",
          "height": 395
        },
        "id": "vxMRdak16qqy",
        "outputId": "2542ea35-d57a-4a0a-9df3-caa4c0e3b559"
      },
      "execution_count": null,
      "outputs": [
        {
          "output_type": "execute_result",
          "data": {
            "text/plain": [
              "Text(0.5, 1.0, 'boxplot showing hand temperature in household chores and non household chores')"
            ]
          },
          "metadata": {},
          "execution_count": 284
        },
        {
          "output_type": "display_data",
          "data": {
            "text/plain": [
              "<Figure size 576x432 with 1 Axes>"
            ],
            "image/png": "[encoded data removed]"
          },
          "metadata": {
            "needs_background": "light"
          }
        }
      ]
    },
    {
      "cell_type": "code",
      "source": [
        "fig, leg_hr= plt.subplots(figsize=(8,6))\n",
        "\n",
        "leg_hr= sns.boxplot(y=household_choresDF[\"imu_ankle_temp\"])\n",
        "\n",
        "leg_hr= sns.boxplot(y=Nonhousehold_choresDF[\"imu_ankle_temp\"], color = \"red\")\n",
        "plt.title('boxplot showing ankle temperature in household chores and non household chores')"
      ],
      "metadata": {
        "colab": {
          "base_uri": "https://localhost:8080/",
          "height": 395
        },
        "id": "yfyCH6g2679e",
        "outputId": "fae3dde4-2d89-4725-8468-dbd485527367"
      },
      "execution_count": null,
      "outputs": [
        {
          "output_type": "execute_result",
          "data": {
            "text/plain": [
              "Text(0.5, 1.0, 'boxplot showing ankle temperature in household chores and non household chores')"
            ]
          },
          "metadata": {},
          "execution_count": 285
        },
        {
          "output_type": "display_data",
          "data": {
            "text/plain": [
              "<Figure size 576x432 with 1 Axes>"
            ],
            "image/png": "[encoded data removed]"
          },
          "metadata": {
            "needs_background": "light"
          }
        }
      ]
    },
    {
      "cell_type": "code",
      "source": [
        "#Exercise activities and non-exercise activities\n",
        "\n",
        "Exercises_DF = dev_data.loc[(dev_data['activityID']==4)|(dev_data['activityID']==5)|(dev_data['activityID']==6)|(dev_data['activityID']==7)|(dev_data['activityID']==12)|(dev_data['activityID']==13)|(dev_data['activityID']==20)|(dev_data['activityID']==24)]\n",
        "\n",
        "Non_exercisesDF =dev_data.loc[(dev_data['activityID']==1)|(dev_data['activityID']==2)|(dev_data['activityID']==3)|(dev_data['activityID']==9)|(dev_data['activityID']==10)|\n",
        "(dev_data['activityID']==11)|(dev_data['activityID']==16)|(dev_data['activityID']==17)|(dev_data['activityID']==18)|(dev_data['activityID']==19)]\n"
      ],
      "metadata": {
        "id": "XAESqq2FzAce"
      },
      "execution_count": null,
      "outputs": []
    },
    {
      "cell_type": "code",
      "source": [
        "fig, leg_hr= plt.subplots(figsize=(8,6))\n",
        "\n",
        "leg_hr= sns.boxplot(y=Exercises_DF[\"imu_hand_temp\"])\n",
        "\n",
        "leg_hr= sns.boxplot(y=Non_exercisesDF[\"imu_hand_temp\"], color = \"red\")\n",
        "plt.title('boxplot showing hand temperature in execersises and non exercises')"
      ],
      "metadata": {
        "colab": {
          "base_uri": "https://localhost:8080/",
          "height": 395
        },
        "id": "cCa1tV6ZzACQ",
        "outputId": "2c0a0f2e-2964-4b1d-b197-d1355d8aa11c"
      },
      "execution_count": null,
      "outputs": [
        {
          "output_type": "execute_result",
          "data": {
            "text/plain": [
              "Text(0.5, 1.0, 'boxplot showing hand temperature in execersises and non exercises')"
            ]
          },
          "metadata": {},
          "execution_count": 287
        },
        {
          "output_type": "display_data",
          "data": {
            "text/plain": [
              "<Figure size 576x432 with 1 Axes>"
            ],
            "image/png": "[encoded data removed]"
          },
          "metadata": {
            "needs_background": "light"
          }
        }
      ]
    },
    {
      "cell_type": "code",
      "source": [
        "fig, leg_hr= plt.subplots(figsize=(8,6))\n",
        "\n",
        "leg_hr= sns.boxplot(y=Exercises_DF[\"imu_ankle_temp\"])\n",
        "\n",
        "leg_hr= sns.boxplot(y=Non_exercisesDF[\"imu_ankle_temp\"], color = \"red\")\n",
        "\n",
        "plt.title('boxplot showing ankle temperature in execersises and non exercises')"
      ],
      "metadata": {
        "colab": {
          "base_uri": "https://localhost:8080/",
          "height": 395
        },
        "id": "DsTE2tEny_9e",
        "outputId": "685da348-59d6-4b08-ee75-d1c6c76832fa"
      },
      "execution_count": null,
      "outputs": [
        {
          "output_type": "execute_result",
          "data": {
            "text/plain": [
              "Text(0.5, 1.0, 'boxplot showing ankle temperature in execersises and non exercises')"
            ]
          },
          "metadata": {},
          "execution_count": 288
        },
        {
          "output_type": "display_data",
          "data": {
            "text/plain": [
              "<Figure size 576x432 with 1 Axes>"
            ],
            "image/png": "[encoded data removed]"
          },
          "metadata": {
            "needs_background": "light"
          }
        }
      ]
    },
    {
      "cell_type": "code",
      "source": [
        "ig, leg_hr= plt.subplots(figsize=(8,6))\n",
        "\n",
        "leg_hr= sns.boxplot(y=Exercises_DF[\"imu_chest_temp\"])\n",
        "\n",
        "leg_hr= sns.boxplot(y=Non_exercisesDF[\"imu_chest_temp\"], color = \"red\")\n",
        "plt.title('boxplot showing chest temperature in execersises and non exercises')"
      ],
      "metadata": {
        "colab": {
          "base_uri": "https://localhost:8080/",
          "height": 395
        },
        "id": "iiZb07aay_is",
        "outputId": "eaec05b0-5a9a-46c6-9945-0cbb1415b1c4"
      },
      "execution_count": null,
      "outputs": [
        {
          "output_type": "execute_result",
          "data": {
            "text/plain": [
              "Text(0.5, 1.0, 'boxplot showing chest temperature in execersises and non exercises')"
            ]
          },
          "metadata": {},
          "execution_count": 289
        },
        {
          "output_type": "display_data",
          "data": {
            "text/plain": [
              "<Figure size 576x432 with 1 Axes>"
            ],
            "image/png": "[encoded data removed]"
          },
          "metadata": {
            "needs_background": "light"
          }
        }
      ]
    },
    {
      "cell_type": "code",
      "source": [
        "ig, leg_hr= plt.subplots(figsize=(8,6))\n",
        "\n",
        "leg_hr= sns.boxplot(y=Exercises_DF[\"heartrate_bpm\"])\n",
        "\n",
        "leg_hr= sns.boxplot(y=Non_exercisesDF[\"heartrate_bpm\"], color = \"red\")\n",
        "plt.title('boxplot showing heartrate in execersises and non exercises')"
      ],
      "metadata": {
        "colab": {
          "base_uri": "https://localhost:8080/",
          "height": 395
        },
        "id": "y9N6FrsTy_c9",
        "outputId": "e09fb606-7d3f-4bb9-d7e7-4a900ee9fffd"
      },
      "execution_count": null,
      "outputs": [
        {
          "output_type": "execute_result",
          "data": {
            "text/plain": [
              "Text(0.5, 1.0, 'boxplot showing heartrate in execersises and non exercises')"
            ]
          },
          "metadata": {},
          "execution_count": 290
        },
        {
          "output_type": "display_data",
          "data": {
            "text/plain": [
              "<Figure size 576x432 with 1 Axes>"
            ],
            "image/png": "[encoded data removed]"
          },
          "metadata": {
            "needs_background": "light"
          }
        }
      ]
    },
    {
      "cell_type": "markdown",
      "source": [
        "**Findings**\n",
        "\n",
        "From the classification of the activities we could see the following:\n",
        "\n",
        "Moving activities and non moving activities:\n",
        "\n",
        "1. Moving actvities have a higher heartrate than non Moving activities.\n",
        "2. Moving actvities have a higher chest temperature than non Moving activities.\n",
        "3. Non Moving actvities have a higher hand temperature than Moving activities.\n",
        "4. Moving actvities have the same ankle temeperature level than non Moving. activities\n",
        "\n",
        "Household chores and Non household chores\n",
        "\n",
        "1. Household chores have the heartrate range with non Household chores.\n",
        "2. Household chores have a higher chest temperature than non Household chores.\n",
        "3. Household chores have a higher hand temperature than non Household chores.\n",
        "4. Household chores have a higher ankle temeperature level than non Household chores.\n",
        "\n",
        "\n",
        "Exercise activities and non exercises activities\n",
        "\n",
        "1. Exercise actvities have a higher heartrate than non Exercise activities.\n",
        "2. Exercise actvities have a higher chest temperature range than non Exercise activities.\n",
        "3. Non Exercise actvities have a higher hand temperature range than Exercise activities.\n",
        "4. Non Exercise actvities have a higher ankle temeperature range than Exercise activities\n",
        "\n"
      ],
      "metadata": {
        "id": "z4LG4m6_2t1b"
      }
    },
    {
      "cell_type": "markdown",
      "source": [
        "From the classification and exploration of the different physical activities. It can be seen that:  \n",
        "\n",
        "Temperature levels increase with certain activities(household chores and exercise). It is important to note that some physical activities such as vacuum cleaning and ironing require external equipment that produce heat to be performed, this is why the temperature for household chores is higher than non household chores. This also affects non exercise activities because vacuum cleaning and ironing were added to the non exercises data frame have.\n",
        "\n",
        "Therefore, we will drop the ankle and hand temperature variable in our analysis because the imu in the hand and ankle most likely pick up external heat and read it as temperature from the body. \n",
        "\n",
        "The focus will be on two variables for the hypothesis testing:\n",
        "\n",
        "Chest temperature and heartrate"
      ],
      "metadata": {
        "id": "oRaj4iRWBCCC"
      }
    },
    {
      "cell_type": "markdown",
      "source": [
        "**4. Hypothesis Testing**\n",
        "\n",
        "Research background\n",
        "\n",
        "Exploratory Data analysis was conducted on the training data. it gave insights into the dataset. we will now conduct hypothesis testing through statistical tests using the testing data. The testing data was originally gotten from the dataset which was split into for the purpose of this report.\n",
        "\n",
        "\n",
        "\n",
        "\n",
        "The three testable hypothesis are:\n",
        "\n",
        "1. If increased heartrate is related to moving activities, then moving activities have a higher heartrate than non moving activities.\n",
        "\n",
        "2. If increased heartrate is related to intense activities, then intense activities have a higher heartrate than the average moving activities heartrate.\n",
        "\n",
        "3. if increased temperature is related to household activities, then household activities have a higher temperature than non household activities.\n",
        "\n",
        "\n",
        "**1st Hypothesis:**\n",
        "\n",
        "**If increased heartrate is related to moving activities, then moving activities have a higher heartrate than non moving activities.**\n",
        "\n",
        "H0: there is no significant difference between moving activities heartrate and non moving activities heart rate\n",
        "\n",
        "\n",
        "H1: there is a significant difference between moving activities heartrate and non moving activities heart rate\n",
        "\n",
        "This hypothesis test will be conducted using a z test.The z test is best suited to test the hypothesis because it will test if the two population means are different. The data for the hypothesis test will be the heartrate for moving and heartrate for non moving activities, which was originally gotten from the testing dataset. \n",
        "\n",
        "To conduct a z test, we need to set a significance level. a significance level is the probability of rejecting the null hypothesis. For this test, the significant level will be 0.05."
      ],
      "metadata": {
        "id": "nqERUyf45qKw"
      }
    },
    {
      "cell_type": "code",
      "source": [
        "test_data = testing_data"
      ],
      "metadata": {
        "id": "T7Scqe1Ry-Kv"
      },
      "execution_count": null,
      "outputs": []
    },
    {
      "cell_type": "code",
      "source": [
        "#leg_activites = ['4','5','6','7','12','13','16','24']\n",
        "#non_leg_activities = ['1','2','3','9','17']\n",
        "\n",
        "moving_activitesDFT = test_data.loc[(test_data['activityID']==4)|(test_data['activityID']==5)|(test_data['activityID']==6)|(test_data['activityID']==7)|(test_data['activityID']==12)|\n",
        "                   (test_data['activityID']==13)|(test_data['activityID']==16)|(test_data['activityID']==24)]\n",
        "\n",
        "non_moving_activitesDFT =test_data.loc[(test_data['activityID']==1)|(test_data['activityID']==2)|(test_data['activityID']==3)|(test_data['activityID']==9)|(test_data['activityID']==17)]\n",
        "\n"
      ],
      "metadata": {
        "id": "8SNukW18y-I_"
      },
      "execution_count": null,
      "outputs": []
    },
    {
      "cell_type": "code",
      "source": [
        "from statsmodels.stats.weightstats import ztest as ztest\n",
        "ztest(moving_activitesDFT['heartrate_bpm'],non_moving_activitesDFT['heartrate_bpm'])"
      ],
      "metadata": {
        "colab": {
          "base_uri": "https://localhost:8080/"
        },
        "id": "5Uqih0SZy-F1",
        "outputId": "7ca6715e-be1f-47df-a7ee-77d078cd854c"
      },
      "execution_count": null,
      "outputs": [
        {
          "output_type": "execute_result",
          "data": {
            "text/plain": [
              "(306.57755351589486, 0.0)"
            ]
          },
          "metadata": {},
          "execution_count": 293
        }
      ]
    },
    {
      "cell_type": "markdown",
      "source": [
        "**Results and Findings**\n",
        "\n",
        "If the p-value is less than 0.05(significance level), we will accept the alternative hypothsis is statistically significant\n",
        "\n",
        "p_value = 0.0\n",
        "\n",
        "\n",
        "significance level = 0.05\n",
        "\n",
        "The pvalue is less than the significance level. Therefore we reject the null hypothesis that there is no significant difference between the means. This means we will accept the alternative hypothesis that states there is significant difference between the means. \n",
        "\n",
        "**Therefore increased heartrate is related to moving activities**"
      ],
      "metadata": {
        "id": "ZFyJCuHZ8qSe"
      }
    },
    {
      "cell_type": "markdown",
      "source": [
        "**2nd hypothesis**\n",
        "\n",
        "**IF increased heartrate is related to intense activities, then intense activities have a higher heartrate than average moving activities heartrate.**\n",
        "\n",
        "Null Hypothesis: Mean is equal to 122 bpm\n",
        "\n",
        "Alternative hypothesis: Mean is greater than 122 bpm\n",
        "\n",
        "This hypothesis test will be conducted using a z test.\n",
        "\n",
        "To conduct a z test, we need to set a significance level. a significance level is the probability of rejecting the null hypothesis. \n",
        "\n",
        "significance level = 0.05\n"
      ],
      "metadata": {
        "id": "sZ0bIEdv8smQ"
      }
    },
    {
      "cell_type": "code",
      "source": [
        "#find the mean for moving activities\n",
        "moving_activitesDFT['heartrate_bpm'].mean()\n"
      ],
      "metadata": {
        "colab": {
          "base_uri": "https://localhost:8080/"
        },
        "id": "zKZrRZnZ8Lyf",
        "outputId": "6a2f4fdb-2e5d-4ec3-9255-125ef849c7f0"
      },
      "execution_count": null,
      "outputs": [
        {
          "output_type": "execute_result",
          "data": {
            "text/plain": [
              "122.43104080696928"
            ]
          },
          "metadata": {},
          "execution_count": 294
        }
      ]
    },
    {
      "cell_type": "code",
      "source": [
        "#create a dataframe for only the intense activities\n",
        "running_and_jumpropeDF = test_data.loc[(test_data['activityID']==5)|(test_data['activityID']==24)]\n"
      ],
      "metadata": {
        "id": "339he2Vk8LvQ"
      },
      "execution_count": null,
      "outputs": []
    },
    {
      "cell_type": "code",
      "source": [
        "running_and_jumprope_mean = running_and_jumpropeDF['heartrate_bpm'].mean()\n",
        "running_and_jumprope_std = running_and_jumpropeDF['heartrate_bpm'].std()\n",
        "running_and_jumprope_count = running_and_jumpropeDF['heartrate_bpm'].count()"
      ],
      "metadata": {
        "id": "PuGNtLvG8Ltp"
      },
      "execution_count": null,
      "outputs": []
    },
    {
      "cell_type": "code",
      "source": [
        "P_G = (running_and_jumprope_mean - 122.4)/(running_and_jumprope_std / np.sqrt(running_and_jumprope_count))"
      ],
      "metadata": {
        "id": "w3J6Otfs8LrT"
      },
      "execution_count": null,
      "outputs": []
    },
    {
      "cell_type": "code",
      "source": [
        "from scipy import stats\n",
        "p_value = 1 - stats.norm.cdf(P_G)"
      ],
      "metadata": {
        "id": "bCTvIfgx8Lp8"
      },
      "execution_count": null,
      "outputs": []
    },
    {
      "cell_type": "code",
      "source": [
        "print(P_G)\n",
        "print(p_value)"
      ],
      "metadata": {
        "colab": {
          "base_uri": "https://localhost:8080/"
        },
        "id": "yV5DkFl08LnN",
        "outputId": "6ae58fa7-c9fc-4450-8a9a-9d9c498aea7b"
      },
      "execution_count": null,
      "outputs": [
        {
          "output_type": "stream",
          "name": "stdout",
          "text": [
            "103.16642624559273\n",
            "0.0\n"
          ]
        }
      ]
    },
    {
      "cell_type": "markdown",
      "source": [
        "**Results and Findings**\n",
        "\n",
        "p_value = 0.0\n",
        "\n",
        "\n",
        "significance level = 0.05\n",
        "\n",
        "\n",
        "We set the significance level to 0.05. The pvalue is less than the significance level. Therefore we reject the null hypothesis that there is no significant difference between the means. we accept our alternative hypothesis that increased heartrate is related to intense activities. \n",
        "\n",
        "**Therefore heartrate greater than 122 bpm should be regarded as intense activities or exercises**"
      ],
      "metadata": {
        "id": "XcM6Yjaz_nCE"
      }
    },
    {
      "cell_type": "markdown",
      "source": [
        "**Third hypothesis**\n",
        "\n",
        "**if increased temperature is related to household activities, then household activities have a higher temperature than non household activities.**\n",
        "\n",
        "H0: there is no significant difference between household activities and non household activities.\n",
        "\n",
        "H1: there is a significant difference between household activities and non household activities\n",
        "\n",
        "This hypothesis test will be conducted using a z test.The z test is best suited to test the hypothesis because it will test if the two population means are different\n",
        "\n",
        "To conduct a z test, we need to set a significance level. a significance level is the probability of rejecting the null hypothesis. For this test, the significant level will be 0.05."
      ],
      "metadata": {
        "id": "9BUxZ8DJ_uRI"
      }
    },
    {
      "cell_type": "code",
      "source": [
        "housechores_DF = test_data.loc[(test_data['activityID']==16)|\n",
        "                            (test_data['activityID']==17)|\n",
        "                            (test_data['activityID']==18)|\n",
        "                            (test_data['activityID']==19)]\n",
        "                            "
      ],
      "metadata": {
        "id": "7lY6S4iH8LmF"
      },
      "execution_count": null,
      "outputs": []
    },
    {
      "cell_type": "code",
      "source": [
        "Nonhousechores_DF = test_data.loc[(test_data['activityID']==1)|\n",
        "                            (test_data['activityID']==2)|\n",
        "                            (test_data['activityID']==3)|\n",
        "                            (test_data['activityID']==4)|\n",
        "                            (test_data['activityID']==5)|\n",
        "                            (test_data['activityID']==6)| \n",
        "                            (test_data['activityID']==7)|\n",
        "                            (test_data['activityID']==9)|\n",
        "                            (test_data['activityID']==10)|\n",
        "                            (test_data['activityID']==11)|\n",
        "                            (test_data['activityID']==12)|\n",
        "                            (test_data['activityID']==13)|\n",
        "                             (test_data['activityID']==20)|\n",
        "                            (test_data['activityID']==24)]"
      ],
      "metadata": {
        "id": "RCFXCjUC8LkH"
      },
      "execution_count": null,
      "outputs": []
    },
    {
      "cell_type": "code",
      "source": [
        "ztest(housechores_DF['imu_chest_temp'],Nonhousechores_DF['imu_chest_temp'])"
      ],
      "metadata": {
        "colab": {
          "base_uri": "https://localhost:8080/"
        },
        "id": "a8MdehxX8LfO",
        "outputId": "b8e9f4db-a566-4596-a7b2-685f6129bf77"
      },
      "execution_count": null,
      "outputs": [
        {
          "output_type": "execute_result",
          "data": {
            "text/plain": [
              "(54.05536882874438, 0.0)"
            ]
          },
          "metadata": {},
          "execution_count": 302
        }
      ]
    },
    {
      "cell_type": "markdown",
      "source": [
        "**Results and Findings**\n",
        "\n",
        "p_value = 0.0\n",
        "\n",
        "Significance level = 0.05\n",
        "\n",
        "We set the significance level to 0.05. The pvalue is less than the significance level. Therefore we reject the null hypothesis that there is no significant difference between the means.\n",
        "\n",
        "This means that **Increase in temperature is related to household chores** "
      ],
      "metadata": {
        "id": "o98hLTygAgsh"
      }
    },
    {
      "cell_type": "markdown",
      "source": [
        "**5. Model building**\n",
        "\n",
        "A model can be described as a system that uses mathematical concepts and languages. Model building is the process of creating a mathematical representation by learning from training data. \n",
        "\n",
        "In this report, one of the requirements to reach the objective is to build atleast one model.\n",
        "\n",
        "To build a model, we would undergo supervised learning. Supervised learning is the machine learning task of learning a function thats gives an input to an output based on examples of input-output pairs. It is a type of learning where an algorithm needs to see a lot of data which includes inputs \n",
        "and outputs in order to predict the corresponding outputs effectively.\n",
        "\n",
        "In order to build the model, we will be using two modeling algorithms from supervised learning.\n",
        "\n",
        "1. Logistic Regression\n",
        "2. Random forest classification\n",
        "\n",
        "To start the model building, we have to split the dataset into two, training data and testing data. The training data will be used in training the model. The testing data will be used in testing the model.\n",
        "\n",
        "The training and testing data will be split into 50:50. They are going to be split evenly because we want to avoid the class imbalance problem. Class imbalance problem is the problem where there are more classes in one dataset compared to the other dataset.\n",
        "\n",
        "Also we will drop the timestamp and subjectid variable because they can cause the predictions of the model to be inaccurate.\n",
        "\n",
        "The data will also be scaled using the Robust Scaler.The robust scaler was used because we want to reduce the effect of outliers. The data is being scaled because we want the model to find it easy to interpret the data.\n",
        "\n",
        "\n",
        "\n"
      ],
      "metadata": {
        "id": "hDuIZhEDL2mb"
      }
    },
    {
      "cell_type": "code",
      "source": [
        "#importing necessary libraries for model building\n",
        "from sklearn import preprocessing\n",
        "from sklearn.preprocessing import StandardScaler, RobustScaler\n",
        "from sklearn.metrics import accuracy_score,recall_score,f1_score,precision_score,confusion_matrix\n",
        "from sklearn.linear_model import LogisticRegression\n",
        "from sklearn.model_selection import train_test_split\n",
        "from sklearn.model_selection import KFold, cross_val_score\n",
        "from sklearn.svm import SVC"
      ],
      "metadata": {
        "id": "SP02-aipAXzh"
      },
      "execution_count": null,
      "outputs": []
    },
    {
      "cell_type": "code",
      "source": [
        "#splitting the dataset into training and testing\n",
        "training_data, testing_dataa = train_test_split(data, test_size=0.5, random_state=57)\n",
        "\n",
        "print(f\"No. of training data: {training_data.shape[0]}\")\n",
        "print(f\"No. of testing dataa: {testing_data.shape[0]}\")"
      ],
      "metadata": {
        "colab": {
          "base_uri": "https://localhost:8080/"
        },
        "id": "5RFFtR1zAXxr",
        "outputId": "568739c0-51b2-4e44-bfdb-8b201eeb493d"
      },
      "execution_count": null,
      "outputs": [
        {
          "output_type": "stream",
          "name": "stdout",
          "text": [
            "No. of training data: 80422\n",
            "No. of testing dataa: 80422\n"
          ]
        }
      ]
    },
    {
      "cell_type": "code",
      "source": [
        "training_data = training_data.drop(['timestamp','subject'],1)\n",
        "testing_dataa = testing_dataa.drop(['timestamp','subject'],1)"
      ],
      "metadata": {
        "colab": {
          "base_uri": "https://localhost:8080/"
        },
        "id": "jhmb3I2lAXvt",
        "outputId": "15ae0800-6a4d-4486-882c-3d8601968081"
      },
      "execution_count": null,
      "outputs": [
        {
          "output_type": "stream",
          "name": "stderr",
          "text": [
            "<ipython-input-305-30140352c4f9>:1: FutureWarning: In a future version of pandas all arguments of DataFrame.drop except for the argument 'labels' will be keyword-only\n",
            "  training_data = training_data.drop(['timestamp','subject'],1)\n",
            "<ipython-input-305-30140352c4f9>:2: FutureWarning: In a future version of pandas all arguments of DataFrame.drop except for the argument 'labels' will be keyword-only\n",
            "  testing_dataa = testing_dataa.drop(['timestamp','subject'],1)\n"
          ]
        }
      ]
    },
    {
      "cell_type": "code",
      "source": [
        "training_datascaled = training_data.copy()\n",
        "testing_datascaled = testing_dataa.copy()"
      ],
      "metadata": {
        "id": "0lVfiuiRAXsP"
      },
      "execution_count": null,
      "outputs": []
    },
    {
      "cell_type": "code",
      "source": [
        "scaler = RobustScaler()"
      ],
      "metadata": {
        "id": "_rfV0gx2AXqT"
      },
      "execution_count": null,
      "outputs": []
    },
    {
      "cell_type": "code",
      "source": [
        "training_datascaled.iloc[:,1:41] = scaler.fit_transform(training_datascaled.iloc[:,1:41])\n",
        "testing_datascaled.iloc[:,1:41] = scaler.fit_transform(testing_datascaled.iloc[:,1:41])"
      ],
      "metadata": {
        "id": "1l4HSaTrAXok"
      },
      "execution_count": null,
      "outputs": []
    },
    {
      "cell_type": "code",
      "source": [
        "#train data\n",
        "X_Train = training_datascaled.drop(['activityID'],axis = 1)\n",
        "Y_Train = training_datascaled['activityID'].values\n",
        "\n",
        "\n",
        "#test data\n",
        "X_Test = testing_datascaled.drop(['activityID'],axis = 1)\n",
        "Y_Test = testing_datascaled['activityID'].values"
      ],
      "metadata": {
        "id": "-i-oOycDAXlp"
      },
      "execution_count": null,
      "outputs": []
    },
    {
      "cell_type": "markdown",
      "source": [
        "**Evaluating the models**\n",
        "\n",
        "\n",
        "To evaluate the performance of the models we have built, certain metrics will be used.   \n",
        "\n",
        "\n",
        "\n",
        "Accuracy:\n",
        "\n",
        " This can be defined as number of correctly classified data over the total number of data. It is simply the number of correct predictions the model got correctly. \n",
        "              \n",
        "\n",
        "Precision: \n",
        "\n",
        "This can be defined as the overral quality of the predictions, higher precision means there are more relevants results from the model \n",
        " \n",
        " \n",
        "\n",
        "precision is the ability of the classifier to not label a sample as positive if it is negative.\n",
        "\n",
        "Recall:\n",
        "\n",
        "This is also called the sensitivity. Recall is the value of positive instances out of the actual positive instances. \n",
        "\n",
        "F1-score:\n",
        " \n",
        "The F1 score can be interpreted as a weighted harmonic mean of the precision and recall, where an F1 score reaches its best value at 1 and worst score at 0. This score weights the recall more than the precision. If the f1 score is 1.0 this means recall and precision are equally important."
      ],
      "metadata": {
        "id": "37YIZUyHgfw-"
      }
    },
    {
      "cell_type": "code",
      "source": [
        "def performance_evaluator (y_true,y_pred):\n",
        "    a = accuracy_score(y_true, y_pred)\n",
        "    e = 1-a\n",
        "    p = precision_score(y_true, y_pred,average=None).mean()\n",
        "    r = recall_score(y_true, y_pred, average=None).mean()\n",
        "    f1 = f1_score(y_true, y_pred, average=None).mean()\n",
        "    print(\"Accuracy: %.3f \\nError: %.3f \\nPrecesion: %.3f \\nRecall: %.3f \\nF1 score:%.3f \\n\"% (a,e,p,r,f1) )"
      ],
      "metadata": {
        "id": "av5dIp8-gh3e"
      },
      "execution_count": null,
      "outputs": []
    },
    {
      "cell_type": "markdown",
      "source": [
        "**Principal Component Analysis**\n",
        "\n",
        "  This is also known as dimensionality reduction, it can be described as reducing the number of features that are used in building a model. The PCA method will be carried out by using the sklearn decomposition library"
      ],
      "metadata": {
        "id": "37PAMkfmY8Kn"
      }
    },
    {
      "cell_type": "code",
      "source": [
        "from sklearn.decomposition import PCA\n",
        "pca = PCA()\n",
        "pca.fit(testing_dataa)\n",
        "var= pca.explained_variance_ratio_\n",
        "var1=np.cumsum(np.round(pca.explained_variance_ratio_, decimals=4)*100)\n",
        "\n",
        "plt.title(\"PCA Variance against num of Components\")\n",
        "plt.ylabel(\"Variance %\")\n",
        "plt.xlabel(\"Number of components\")\n",
        "l = plt.axhline(94, color=\"red\")\n",
        "\n",
        "plt.plot(var1)\n",
        "plt.grid()"
      ],
      "metadata": {
        "colab": {
          "base_uri": "https://localhost:8080/",
          "height": 295
        },
        "id": "K_NY4vxgQPZt",
        "outputId": "13be23e6-ed22-472f-d5a7-a1b83b338f73"
      },
      "execution_count": null,
      "outputs": [
        {
          "output_type": "display_data",
          "data": {
            "text/plain": [
              "<Figure size 432x288 with 1 Axes>"
            ],
            "image/png": "[encoded data removed]"
          },
          "metadata": {
            "needs_background": "light"
          }
        }
      ]
    },
    {
      "cell_type": "code",
      "source": [
        "pca = PCA(n_components=8)\n",
        "X_Train=pca.fit_transform(X_Train)\n",
        "X_Test=pca.fit_transform(X_Test)"
      ],
      "metadata": {
        "id": "yW8Y6Eb_QOD9"
      },
      "execution_count": null,
      "outputs": []
    },
    {
      "cell_type": "markdown",
      "source": [
        "As we can see from the above diagram, the two lines meet at 8 which means 8 components fall at the 94% of the variance. it will now be fitted into our X data as we build the model "
      ],
      "metadata": {
        "id": "U2kW3Sl8e6oF"
      }
    },
    {
      "cell_type": "markdown",
      "source": [
        "**Logisitic regression**\n",
        "\n",
        "Logistic regression is a type of machine learning algorithm which is used to predict the probability of a categorical dependent variable.Logistic regression is similiar to linear regression except logistic regression predicts if something is true or false.\n",
        "\n",
        "To carry out logistic regression:\n",
        "\n",
        "\n",
        "\n",
        "*  import necessary libraries from python\n",
        "*   Split the dataset into training and testing\n",
        "*   Train the model using the training data\n",
        "*   Make predicitions using the testing data\n",
        "*   Evaluate the performance of the model\n",
        "\n",
        "\n",
        "\n",
        "\n",
        "\n"
      ],
      "metadata": {
        "id": "evCVBUf7Z72L"
      }
    },
    {
      "cell_type": "code",
      "source": [
        "log_reg = LogisticRegression()\n",
        "log_reg.fit(X_Train,Y_Train)\n",
        "y_pred = log_reg.predict(X_Test)\n",
        "performance_evaluator(Y_Test,y_pred)"
      ],
      "metadata": {
        "colab": {
          "base_uri": "https://localhost:8080/"
        },
        "id": "j1KvIhubAXjX",
        "outputId": "e5fff375-bb2b-4c87-e296-6eae5e3a1c2d"
      },
      "execution_count": null,
      "outputs": [
        {
          "output_type": "stream",
          "name": "stdout",
          "text": [
            "Accuracy: 0.276 \n",
            "Error: 0.724 \n",
            "Precesion: 0.191 \n",
            "Recall: 0.204 \n",
            "F1 score:0.158 \n",
            "\n"
          ]
        }
      ]
    },
    {
      "cell_type": "markdown",
      "source": [
        "**Outcome**\n",
        "\n",
        "The logistic regression model was trained on the training dataset and tested on testing dataset. dimensionality reduction was performed on the training data used on the model. \n",
        "\n",
        "The performance of the model was evaluated using accuracy, precision, recall and F1.\n",
        "\n",
        "Accuracy: 0.276\n",
        "\n",
        "Error: 0.724\n",
        "\n",
        "Precision: 0.193\n",
        "\n",
        "Recall: 0.204\n",
        "\n",
        "F1 score: 0.158\n",
        "\n",
        "\n",
        "It can be noted that the logistic regression model has performed poorly. This could be as a result of the PCA. we will build another logistic regression model but this time without the PCA\n",
        "\n"
      ],
      "metadata": {
        "id": "KWUc_oAtFwa3"
      }
    },
    {
      "cell_type": "code",
      "source": [
        "#train data\n",
        "X_Train2 = training_datascaled.drop(['activityID'],axis = 1)\n",
        "Y_Train2 = training_datascaled['activityID'].values\n",
        "\n",
        "\n",
        "#test data\n",
        "X_Test2 = testing_datascaled.drop(['activityID'],axis = 1)\n",
        "Y_Test2 = testing_datascaled['activityID'].values"
      ],
      "metadata": {
        "id": "tVTGY1rcZGs5"
      },
      "execution_count": null,
      "outputs": []
    },
    {
      "cell_type": "code",
      "source": [
        "#2nd logistic regression model without implementing PCA\n",
        "log_reg = LogisticRegression()\n",
        "log_reg.fit(X_Train2,Y_Train2)\n",
        "y_pred2 = log_reg.predict(X_Test2)\n",
        "performance_evaluator(Y_Test2,y_pred2)"
      ],
      "metadata": {
        "colab": {
          "base_uri": "https://localhost:8080/"
        },
        "id": "EFdJLY7yZGq9",
        "outputId": "b324c257-37f2-49b3-91fb-cc2606dde3aa"
      },
      "execution_count": null,
      "outputs": [
        {
          "output_type": "stream",
          "name": "stderr",
          "text": [
            "/usr/local/lib/python3.8/dist-packages/sklearn/linear_model/_logistic.py:814: ConvergenceWarning: lbfgs failed to converge (status=1):\n",
            "STOP: TOTAL NO. of ITERATIONS REACHED LIMIT.\n",
            "\n",
            "Increase the number of iterations (max_iter) or scale the data as shown in:\n",
            "    https://scikit-learn.org/stable/modules/preprocessing.html\n",
            "Please also refer to the documentation for alternative solver options:\n",
            "    https://scikit-learn.org/stable/modules/linear_model.html#logistic-regression\n",
            "  n_iter_i = _check_optimize_result(\n"
          ]
        },
        {
          "output_type": "stream",
          "name": "stdout",
          "text": [
            "Accuracy: 0.809 \n",
            "Error: 0.191 \n",
            "Precesion: 0.782 \n",
            "Recall: 0.763 \n",
            "F1 score:0.770 \n",
            "\n"
          ]
        }
      ]
    },
    {
      "cell_type": "markdown",
      "source": [
        "Outcome\n",
        "\n",
        "Another logistic regression model was built to see if there was any difference between applying the PCA on the training data or not. these were the outcome values\n",
        "\n",
        "Accuracy: 0.809\n",
        "\n",
        "Error: 0.191\n",
        "\n",
        "Precision: 0.782\n",
        "\n",
        "Recall: 0.763\n",
        "\n",
        "F1 score: 0.770\n",
        "\n",
        "it can be said that the model without the PCA method performed better than the model with the PCA method.\n",
        "\n",
        "In the next model, we will exclude the PCA method,"
      ],
      "metadata": {
        "id": "zN9BlnkFZk1-"
      }
    },
    {
      "cell_type": "markdown",
      "source": [
        "**Random forest classification**\n",
        "\n",
        "Firstly to understand random forest classification, we have to understand what a decision tree is. a decision tree that uses a tree like model to represent a number of possible decisions and an outcome for each decision. Decision trees have a tendency to cause overfitting. To avoid this, we will use Random forest classification.This is a scenerio where we build multiple decision trees and combine their outputs. Random forest classifier creates a set of decision trees from randomly selected subset of training set. it then aggregatea the votes from different decision trees to decide the final class of the test object\n",
        "\n",
        "\n",
        "To carry out Random forest classification:\n",
        "\n",
        "\n",
        "\n",
        "*  import necessary libraries from python\n",
        "*   Split the dataset into training and testing\n",
        "*   Train the model using the training data\n",
        "*   Make predicitions using the testing data\n",
        "*   Evaluate the performance of the model"
      ],
      "metadata": {
        "id": "aVD_dAfdaGXx"
      }
    },
    {
      "cell_type": "code",
      "source": [
        "#importing random forest from sklearn\n",
        "from sklearn.ensemble import RandomForestClassifier\n",
        "\n",
        "rfc = RandomForestClassifier(n_jobs =2)\n",
        "#fitting the x dev and y dev to the random forest classifier\n",
        "#training on dev data\n",
        "rfc.fit(X_Train2,Y_Train2)\n",
        "\n",
        "#testing on test data \n",
        "y_pred_rf = rfc.predict(X_Test2)\n",
        "performance_evaluator(Y_Test2,y_pred_rf)\n",
        "print(y_pred_rf)\n"
      ],
      "metadata": {
        "colab": {
          "base_uri": "https://localhost:8080/"
        },
        "id": "8CewqFDowR7B",
        "outputId": "072fa968-2098-4800-c8f0-3847b6a97152"
      },
      "execution_count": null,
      "outputs": [
        {
          "output_type": "stream",
          "name": "stdout",
          "text": [
            "Accuracy: 0.994 \n",
            "Error: 0.006 \n",
            "Precesion: 0.994 \n",
            "Recall: 0.993 \n",
            "F1 score:0.994 \n",
            "\n",
            "[17  4  3 ... 16 13  4]\n"
          ]
        }
      ]
    },
    {
      "cell_type": "markdown",
      "source": [
        "**Outcome**\n",
        "\n",
        "The Random Forest Classifier model was trained on the training dataset and tested on testing dataset. The performance of the model was evaluated using accuracy, precision, recall and F1.\n",
        "\n",
        "Accuracy: 0.994\n",
        "\n",
        "Error: 0.0006\n",
        "\n",
        "\n",
        "Precision: 0.994\n",
        "\n",
        "Recall: 0.993\n",
        "\n",
        "F1 score: 0.994\n",
        "\n",
        "Overral, it can be said that the model was a good fit for the dataset."
      ],
      "metadata": {
        "id": "BeyTeM1nUcO5"
      }
    },
    {
      "cell_type": "markdown",
      "source": [
        "**6. Summary**\n",
        "\n",
        "The objective of this report is to analyse the pamaap2 dataset which contained physical activities done by 9 subjects. 9 subjects which consisted of 1 female and 8 males. The activities were recorded using 3 IMU's and 1 heart rate monitor.\n",
        "\n",
        "\n",
        "The following steps were completed in this report\n",
        "\n",
        "\n",
        "1. Handling missing data or dirty data:  Missing and dirty data were handled by dropping columns which according to the readme file wont aid the analysis and filtering the dataset to keep only relevant values in the columns\n",
        "\n",
        "\n",
        "2. Thorough exploratory data analysis: After cleaning the dataset, exploratory data analysis was done on the training set.it was noted that there was a correlation between chest and hand temperature.  We focused on variables Heartrate and temperature. there were different temperature and heartrate levels for different activity IDs. Therefore, The activity id was also classified further into seperate classes to explore the data\n",
        "\n",
        "\n",
        "3. Hypothesis Testing: After exploration of data, some relationships were discovered which led to hypothesis testing.\n",
        "\n",
        "    The testable hypothesis were:\n",
        "\n",
        "   * If increased heartrate is related to moving activities, then moving activities have a higher heartrate than non moving activities.\n",
        "\n",
        "   *   IF increased heartrate is related to intense activities, then intense activities have a higher heartrate than average moving activities heartrate.\n",
        "\n",
        "   *   if increased temperature is related to household activities, then household activities have a higher temperature than non household activities.\n",
        "\n",
        "4. To develop atleast one model\n",
        "\n",
        "    For this step we used supervised learning algorithms to build models. Logistic regression and Random Forest classifier were used. \n",
        "    PCA (Dimensionality reduction) was applied on the logistic regression model and the model was very poor. a second logistic regression model was built without applying PCA and it performed very well.  \n",
        "    The logistic regression model and the random forest classifier were both  trained on the training data and tested on the testing data. Although both models performed well, the random forest classifier did significantly better than the logistic regression. They were both evaluated using performance metrics such as accuracy, precision, recall and F1."
      ],
      "metadata": {
        "id": "vHZps5lFdTzl"
      }
    },
    {
      "cell_type": "markdown",
      "source": [
        "**6.1 Actionable Insights**\n",
        "\n",
        "After thorough exploratory data analysis, hypothesis testing and model building. some actionable insights could be gotten from this dataset\n",
        "\n",
        "1. Increased temperature shows household activities like ironing or vacuum cleaning are being carried out.\n",
        "\n",
        "2. Increased heart shows intense activities or exercises are being done.\n",
        "\n",
        "3. heartrate less than  could indicate the person is sitting, lying or doing computer work.\n",
        "\n",
        "4. heartrate greater than   could indicate the person is engaging in a physical activity."
      ],
      "metadata": {
        "id": "Eqd6trR3khVl"
      }
    },
    {
      "cell_type": "markdown",
      "source": [
        "**7. Recommendations**\n",
        "\n",
        "I have a few recommendations that i believe will aid the goal of creating a software and hardware that monitors types of physical activity\n",
        "\n",
        "The hardware can be a chest piece(worn around the chest area): In the analysis it was observed that the ankle imu and hand imu picked up external contributors of heat. Therefore i believe a chest monitor would be the most accurate form of measurement.\n",
        "\n",
        "The software should be an website application, i recommend it should a web application where consumers will have their login details to access the website and see their personal data.This is because of the amount of data being collected each minute. If the software is an application which the consumer installs on the phone, the influx of data can cause their phones to glitch.\n",
        "\n",
        "Thank you"
      ],
      "metadata": {
        "id": "rOHb8rMWB4wf"
      }
    },
    {
      "cell_type": "markdown",
      "source": [
        "**8. References**\n",
        "\n",
        "1. Archive.ics.uci.edu. (2012). UCI Machine Learning Repository: PAMAP2 Physical Activity Monitoring Data Set\n",
        "http://archive.ics.uci.edu/ml/datasets/pamap2+physical+activity+monitoring\n",
        "\n",
        "2.  The Role of Physical Activity and Exercise in Preventive Cardiology\n",
        "\n",
        "   https://www.sciencedirect.com/science/article/abs/pii/S0025712521001619g\n",
        "\n",
        "3. Why Does Body Temperature Increase During Exercise? [Accessed January 2023]\n",
        "\n",
        "    https://www.livestrong.com/article/361702-why-does-body-temperature-increase-during-exercise/\n",
        "\n",
        "4.  Various ways to evaluate a machine learning model’s performance [Accessed January 2023]\n",
        "\n",
        "   https://towardsdatascience.com/various-ways-to-evaluate-a-machine-learning-models-performance-230449055f15\n",
        "\n",
        "5.  Data Science from scratch: first principles in python(2019) - Joel Grus \n",
        "\n",
        "6. Introduction to Data Science : A Python Approach to Concepts, Techniques and Applications (2018) - Laura Igual, Santi Seguí, Jordi Vitrià, Eloi Puertas, Petia Radeva, Oriol Pujol, Sergio Escalera, Francesc Dantí, and Lluís Garrido\n",
        "\n",
        "7. Logistic Regression [Accessed January 2023]\n",
        "\n",
        "   https://scikit-learn.org/stable/modules/generated/sklearn.linear_model.LogisticRegression.html\n",
        "\n",
        "8. Random Forest Classificatier [Accessed January 2023]\n",
        "\n",
        "   https://scikit-learn.org/stable/modules/generated/sklearn.ensemble.RandomForestClassifier.html\n",
        "9. Sklearn decomposition [Accessed January 2023]\n",
        "\n",
        "   https://scikit-learn.org/stable/modules/generated/sklearn.decomposition.PCA.html\n",
        "\n",
        "\n"
      ],
      "metadata": {
        "id": "8mulkZ7nQF5u"
      }
    },
    {
      "cell_type": "code",
      "source": [
        "import io\n",
        "from nbformat import current\n",
        "\n",
        "filepath=\"/content/drive/MyDrive/Colab Notebooks/DSRM_PROJECT.ipynb\"\n",
        "question_count=0\n",
        "\n",
        "with io.open(filepath, 'r', encoding='utf-8') as f:\n",
        "    nb = current.read(f, 'json')\n",
        "\n",
        "word_count = 0\n",
        "for cell in nb.worksheets[0].cells:\n",
        "    if cell.cell_type == \"markdown\":\n",
        "        word_count += len(cell['source'].replace('#', '').lstrip().split(' '))\n",
        "print(\"Submission length is {}\".format(word_count-question_count))"
      ],
      "metadata": {
        "colab": {
          "base_uri": "https://localhost:8080/"
        },
        "id": "9wVCJS464hzF",
        "outputId": "1edb97f9-c981-4aea-df8d-9329816d3166"
      },
      "execution_count": null,
      "outputs": [
        {
          "output_type": "stream",
          "name": "stdout",
          "text": [
            "Submission length is 4034\n"
          ]
        }
      ]
    },
    {
      "cell_type": "code",
      "source": [],
      "metadata": {
        "id": "nabMGryWdPyL"
      },
      "execution_count": null,
      "outputs": []
    }
  ]
}